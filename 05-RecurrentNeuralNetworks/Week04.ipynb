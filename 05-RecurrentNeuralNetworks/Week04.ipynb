{
 "cells": [
  {
   "cell_type": "markdown",
   "metadata": {},
   "source": [
    "#### RNN's attention\n",
    "\n",
    "$$\n",
    "\\alpha^{<t,t'>} =\n",
    "\\frac{\\exp(e^{<t,t'>})}{\\sum_{t'=1}^{T_\\mathbf x} \\exp(e^{<t,t'>})} \\\\\n",
    "$$\n",
    "\n",
    "#### Transformer's attention (Self-attention)\n",
    "\n",
    "$$\n",
    "\\mathrm{A}^{<t>} =\n",
    "\\mathrm{A}(q^{<t>},K,V) =\n",
    "\\sum_{t'} \\frac{\\exp(q^{<t>}k^{<t'>}) \\cdot v^{<t'>}}{\\sum_{t''} \\exp(q^{<t>}k^{<t''>})}\n",
    "$$\n"
   ]
  },
  {
   "cell_type": "markdown",
   "metadata": {},
   "source": [
    "\n",
    "\n",
    "$$\n",
    "q^{<t>} = W_q \\mathbf x^{<t>} \\\\\n",
    "k^{<t>} = W_k \\mathbf x^{<t>} \\\\\n",
    "v^{<t>} = W_v \\mathbf x^{<t>} \\\\\n",
    "$$\n",
    "\n",
    "$$\n",
    "Q = W_q \\mathbf x^{<1:T_\\mathbf x>} \\\\\n",
    "K = W_k \\mathbf x^{<1:T_\\mathbf x>} \\\\\n",
    "V = W_v \\mathbf x^{<1:T_\\mathbf x>} \\\\\n",
    "$$\n",
    "\n",
    "$$\n",
    "\\mathrm{Attention}(Q,K,V) = \\mathrm{softmax}\\left(\\frac{QK^{\\intercal}}{\\sqrt{d_k}}\\right)V\n",
    "$$\n",
    "\n",
    "<img src=\"src/qkv.png\" width=600 />"
   ]
  },
  {
   "cell_type": "code",
   "execution_count": 167,
   "metadata": {},
   "outputs": [
    {
     "data": {
      "text/plain": [
       "(128, 56, 4)"
      ]
     },
     "execution_count": 167,
     "metadata": {},
     "output_type": "execute_result"
    }
   ],
   "source": [
    "import numpy as np\n",
    "\n",
    "x = np.random.randn(128,56,100) # (b,t,n_x) == (b,t,d_k)\n",
    "W_q = np.random.randn(100,10) * 0.01\n",
    "W_k = np.random.randn(100,10) * 0.01\n",
    "W_v = np.random.randn(100,4) * 0.01\n",
    "\n",
    "Q = x @ W_q # (128,56,10)\n",
    "K = x @ W_k # (128,56,10)\n",
    "V = x @ W_v # (128,56,4)\n",
    "\n",
    "                              #     (56,10) @     (10,56)\n",
    "QK_T = Q @ K.transpose(0,2,1) # (128,56,10) @ (128,10,56)\n",
    "QK_T /= K.shape[-1]**(1/2)\n",
    "\n",
    "QK_T = np.exp(QK_T)\n",
    "attention_weights = QK_T / QK_T.sum(-1, keepdims=True) # softmaxed\n",
    "\n",
    "                          #           to K\n",
    "                          #        -softmaxed-   --v--   --v'--\n",
    "                          #        -softmaxed-   --v--   --v'--\n",
    "                          # from Q -softmaxed- @ --v-- = --v'--\n",
    "                          #        -softmaxed-   --v--   --v'--\n",
    "                          #        -softmaxed-   --v--   --v'--\n",
    "A = attention_weights @ V #        (128,56,56) @ (128,56,4)\n",
    "A.shape"
   ]
  },
  {
   "cell_type": "code",
   "execution_count": 148,
   "metadata": {},
   "outputs": [
    {
     "data": {
      "image/png": "[encoded data removed]",
      "text/plain": [
       "<Figure size 432x288 with 1 Axes>"
      ]
     },
     "metadata": {
      "needs_background": "light"
     },
     "output_type": "display_data"
    }
   ],
   "source": [
    "import matplotlib.pyplot as plt\n",
    "\n",
    "plt.title('attention weight')\n",
    "plt.imshow(attention_weights[0])\n",
    "plt.xlabel('to $K$')\n",
    "plt.ylabel('from $Q$')\n",
    "plt.show()"
   ]
  },
  {
   "cell_type": "markdown",
   "metadata": {},
   "source": [
    "### Multi-head Attention\n",
    "\n",
    "<img src=\"src/multihead.png\" width=800 />"
   ]
  },
  {
   "cell_type": "code",
   "execution_count": 186,
   "metadata": {},
   "outputs": [
    {
     "name": "stdout",
     "output_type": "stream",
     "text": [
      "A.shape = (4, 128, 56, 5)\n",
      "A.shape = (128, 56, 5, 4)\n",
      "A.shape = (128, 56, 20)\n"
     ]
    }
   ],
   "source": [
    "import numpy as np\n",
    "\n",
    "x   = np.random.randn(   128,  56, 100) # (b,t,n_x) == (b,t,d_k)\n",
    "W_q = np.random.randn(4,   1, 100,  20) * 0.01\n",
    "W_k = np.random.randn(4,   1, 100,  20) * 0.01\n",
    "W_v = np.random.randn(4,   1, 100,   5) * 0.01\n",
    "\n",
    "            #  h\n",
    "Q = x @ W_q # (4,128,56,20)\n",
    "K = x @ W_k # (4,128,56,20)\n",
    "V = x @ W_v # (4,128,56, 5)\n",
    "\n",
    "QK_T = Q @ K.transpose(0,1,3,2) # (4,128,56,20) @ (4,128,20,56)\n",
    "QK_T /= K.shape[-1]**(1/2)\n",
    "\n",
    "QK_T = np.exp(QK_T)\n",
    "attention_weights = QK_T / QK_T.sum(-1, keepdims=True) # softmaxed (4,128,56,56)\n",
    "\n",
    "                          #                 to K\n",
    "                          #     |        -softmaxed-   --v--       |       | --v'-- |\n",
    "                          #     |        -softmaxed-   --v--       |       | --v'-- |\n",
    "                          # 4 * | from Q -softmaxed- @ --v--       | = 4 * | --v'-- |\n",
    "                          #     |        -softmaxed-   --v--       |       | --v'-- |\n",
    "                          #     |        -softmaxed-   --v--       |       | --v'-- |\n",
    "A = attention_weights @ V #            (4,128,56,56) @ (4,128,56,5)\n",
    "print(f\"{A.shape = }\")\n",
    "\n",
    "A = A.transpose(1,2,3,0)\n",
    "print(f\"{A.shape = }\")\n",
    "\n",
    "A = A.reshape(128,56,20) # concat\n",
    "print(f\"{A.shape = }\")"
   ]
  },
  {
   "cell_type": "markdown",
   "metadata": {},
   "source": [
    "### Transformer"
   ]
  },
  {
   "cell_type": "code",
   "execution_count": null,
   "metadata": {},
   "outputs": [],
   "source": []
  }
 ],
 "metadata": {
  "kernelspec": {
   "display_name": "base",
   "language": "python",
   "name": "python3"
  },
  "language_info": {
   "codemirror_mode": {
    "name": "ipython",
    "version": 3
   },
   "file_extension": ".py",
   "mimetype": "text/x-python",
   "name": "python",
   "nbconvert_exporter": "python",
   "pygments_lexer": "ipython3",
   "version": "3.9.12"
  }
 },
 "nbformat": 4,
 "nbformat_minor": 2
}
