{
 "cells": [
  {
   "cell_type": "markdown",
   "metadata": {},
   "source": [
    "### Binary Classification"
   ]
  },
  {
   "cell_type": "markdown",
   "metadata": {},
   "source": [
    "#### Notation"
   ]
  },
  {
   "cell_type": "markdown",
   "metadata": {},
   "source": [
    "$$\n",
    "\\mathcal D = (\\mathbf x, y) \\quad\n",
    "\\mathbf x \\in \\mathbb R \\quad\n",
    "y \\in \\{0, 1\\}\n",
    "$$\n",
    "$$\n",
    "\\mathcal D = \\{\n",
    "    (\\mathbf x^{(1)}, y^{(1)}),\n",
    "    (\\mathbf x^{(2)}, y^{(2)}),\n",
    "    \\cdots,\n",
    "    (\\mathbf x^{(m)}, y^{(m)})\n",
    "\\}\n",
    "$$\n",
    "$$\n",
    "\\mathbf X =\n",
    "\\begin{bmatrix}\n",
    "    \\vert & \\vert && \\vert\\\\\n",
    "    \\mathbf x^{(1)} & \\mathbf x^{(2)} & \\cdots & \\mathbf x^{(m)} \\\\\n",
    "    \\vert & \\vert && \\vert\\\\\n",
    "\\end{bmatrix}_{n_{\\mathbf x} \\times m}\n",
    "$$\n",
    "$$\n",
    "\\mathbf Y =\n",
    "\\begin{bmatrix}\n",
    "    y^{(1)} & \n",
    "    y^{(2)} & \n",
    "    \\cdots  &\n",
    "    y^{(m)}\n",
    "\\end{bmatrix}_{1 \\times m}\n",
    "$$"
   ]
  },
  {
   "cell_type": "markdown",
   "metadata": {},
   "source": [
    "### Logistic Regression\n",
    "\n",
    "Given $\\mathbf x$, want $\\hat y = P(y=1|\\mathbf x)$.\n",
    "\n",
    "Linear regression\\\n",
    "$\\hat{y} = \\mathbf w^\\intercal \\mathbf x + b$\n",
    "\n",
    "Logistic regression\\\n",
    "$\\hat{y} = \\sigma(\\mathbf w^\\intercal \\mathbf x + b)$"
   ]
  },
  {
   "cell_type": "code",
   "execution_count": 3,
   "metadata": {},
   "outputs": [
    {
     "data": {
      "image/png": "[encoded data removed]",
      "text/plain": [
       "<Figure size 144x144 with 1 Axes>"
      ]
     },
     "metadata": {
      "needs_background": "light"
     },
     "output_type": "display_data"
    }
   ],
   "source": [
    "import matplotlib.pyplot as plt\n",
    "import numpy as np\n",
    "\n",
    "z = np.linspace(-4, 4, 801)\n",
    "y = 1 / (1 + np.exp(-z))\n",
    "\n",
    "plt.figure(figsize=(2,2))\n",
    "plt.title('sigmoid')\n",
    "plt.plot(z,y)\n",
    "plt.axvline(0, c='k', lw=1)\n",
    "plt.xlabel(r'$z$')\n",
    "plt.ylabel(r'$\\sigma(z)$')\n",
    "plt.xlim(-4, 4)\n",
    "plt.ylim( 0, 1)\n",
    "plt.xticks([-4,0,4])\n",
    "plt.yticks([0,.5,1])\n",
    "plt.show()"
   ]
  },
  {
   "cell_type": "markdown",
   "metadata": {},
   "source": [
    "#### Loss Function ($L$)\n",
    "\n",
    "Given\n",
    "$\n",
    "\\mathcal D = \\{\n",
    "    (\\mathbf x^{(1)}, y^{(1)}),\n",
    "    (\\mathbf x^{(2)}, y^{(2)}),\n",
    "    \\cdots,\n",
    "    (\\mathbf x^{(m)}, y^{(m)})\n",
    "\\}\n",
    "$, want $\\hat y^{(i)} \\approx y^{(i)}$.\n",
    "\n",
    "MSE\\\n",
    "$\\mathcal L(\\hat y, y) = (y - \\hat y)^2$\n",
    "\n",
    "Cross-entropy\\\n",
    "$\\mathcal L(\\hat y, y) = -[y \\, log(\\hat y) + (1-y)log(1-\\hat y)]$\n",
    "\n",
    "#### Cost Function ($J$) (which is an average of $L$)\n",
    "\n",
    "$J(\\theta) = J(\\mathbf w, b) = \\dfrac{1}{m} \\sum \\limits_{i=1}^{m} \\mathcal L(\\hat y^{(i)}, y^{(i)})$"
   ]
  },
  {
   "cell_type": "code",
   "execution_count": 4,
   "metadata": {},
   "outputs": [
    {
     "data": {
      "image/png": "[encoded data removed]",
      "text/plain": [
       "<Figure size 576x288 with 2 Axes>"
      ]
     },
     "metadata": {
      "needs_background": "light"
     },
     "output_type": "display_data"
    }
   ],
   "source": [
    "import matplotlib.pyplot as plt\n",
    "import numpy as np\n",
    "\n",
    "l = np.linspace(0, 1, 101)\n",
    "y_mesh, y_hat_mesh = np.meshgrid(l, l)\n",
    "L = (y_mesh - y_hat_mesh)**2\n",
    "\n",
    "plt.figure(figsize=(8,4))\n",
    "plt.subplot(1,2,1)\n",
    "plt.title(r'$\\mathcal{L}_{\\mathrm{MSE}}$')\n",
    "plt.contourf(y_mesh, y_hat_mesh, L, levels=20, alpha=.4)\n",
    "plt.axvline(0, c='k', lw=1)\n",
    "plt.xlabel(r'$y$')\n",
    "plt.ylabel(r'$\\hat{y}$')\n",
    "plt.xlim(0,1)\n",
    "plt.ylim(0,1)\n",
    "\n",
    "e = 1e-2\n",
    "l = np.linspace(0+e, 1-e, 101)\n",
    "y_mesh, y_hat_mesh = np.meshgrid(l, l)\n",
    "L = -(y_mesh * np.log(y_hat_mesh) + (1-y_mesh)*np.log(1-y_hat_mesh))\n",
    "\n",
    "plt.subplot(1,2,2)\n",
    "plt.title(r'$\\mathcal{L}_{\\mathrm{CE}}$')\n",
    "plt.contourf(y_mesh, y_hat_mesh, L, levels=20, alpha=.4)\n",
    "plt.axvline(0, c='k', lw=1)\n",
    "plt.xlabel(r'$y$')\n",
    "plt.ylabel(r'$\\hat{y}$')\n",
    "plt.xlim(0,1)\n",
    "plt.ylim(0,1)\n",
    "plt.show()"
   ]
  }
 ],
 "metadata": {
  "kernelspec": {
   "display_name": "base",
   "language": "python",
   "name": "python3"
  },
  "language_info": {
   "codemirror_mode": {
    "name": "ipython",
    "version": 3
   },
   "file_extension": ".py",
   "mimetype": "text/x-python",
   "name": "python",
   "nbconvert_exporter": "python",
   "pygments_lexer": "ipython3",
   "version": "3.9.12"
  },
  "orig_nbformat": 4
 },
 "nbformat": 4,
 "nbformat_minor": 2
}
