{
 "cells": [
  {
   "cell_type": "markdown",
   "metadata": {},
   "source": [
    "### Binary Classification"
   ]
  },
  {
   "cell_type": "markdown",
   "metadata": {},
   "source": [
    "#### Notation\n",
    "\n",
    "$$\n",
    "\\mathcal D = (\\mathbf x, y) \\quad\n",
    "\\mathbf x \\in \\mathbb R \\quad\n",
    "y \\in \\{0, 1\\}\n",
    "$$\n",
    "$$\n",
    "\\mathcal D = \\{\n",
    "    (\\mathbf x^{(1)}, y^{(1)}),\n",
    "    (\\mathbf x^{(2)}, y^{(2)}),\n",
    "    \\cdots,\n",
    "    (\\mathbf x^{(m)}, y^{(m)})\n",
    "\\}\n",
    "$$\n",
    "$$\n",
    "\\mathbf X =\n",
    "\\begin{bmatrix}\n",
    "    \\vert & \\vert && \\vert\\\\\n",
    "    \\mathbf x^{(1)} & \\mathbf x^{(2)} & \\cdots & \\mathbf x^{(m)} \\\\\n",
    "    \\vert & \\vert && \\vert\\\\\n",
    "\\end{bmatrix}_{n_{\\mathbf x} \\times m}\n",
    "$$\n",
    "$$\n",
    "\\mathbf Y =\n",
    "\\begin{bmatrix}\n",
    "    y^{(1)} & \n",
    "    y^{(2)} & \n",
    "    \\cdots  &\n",
    "    y^{(m)}\n",
    "\\end{bmatrix}_{1 \\times m}\n",
    "$$"
   ]
  },
  {
   "cell_type": "markdown",
   "metadata": {},
   "source": [
    "### Logistic Regression\n",
    "\n",
    "Given $\\mathbf x$, want $\\hat y = P(y=1|\\mathbf x)$.\n",
    "\n",
    "Linear regression\\\n",
    "$\\hat{y} = \\mathbf w^\\intercal \\mathbf x + b$\n",
    "\n",
    "Logistic regression\\\n",
    "$\\hat{y} = \\sigma(\\mathbf w^\\intercal \\mathbf x + b)$"
   ]
  },
  {
   "cell_type": "code",
   "execution_count": 7,
   "metadata": {},
   "outputs": [
    {
     "data": {
      "image/png": "[encoded data removed]",
      "text/plain": [
       "<Figure size 144x144 with 1 Axes>"
      ]
     },
     "metadata": {
      "needs_background": "light"
     },
     "output_type": "display_data"
    }
   ],
   "source": [
    "import matplotlib.pyplot as plt\n",
    "import numpy as np\n",
    "\n",
    "z = np.linspace(-4, 4, 801)\n",
    "y = 1 / (1 + np.exp(-z))\n",
    "\n",
    "plt.figure(figsize=(2,2))\n",
    "plt.title('sigmoid')\n",
    "plt.plot(z,y)\n",
    "plt.axvline(0, c='k', lw=1)\n",
    "plt.xlabel(r'$z$')\n",
    "plt.ylabel(r'$\\sigma(z)$')\n",
    "plt.xlim(-4, 4)\n",
    "plt.ylim( 0, 1)\n",
    "plt.xticks([-4,0,4])\n",
    "plt.yticks([0,.5,1])\n",
    "plt.show()"
   ]
  },
  {
   "cell_type": "markdown",
   "metadata": {},
   "source": [
    "#### Loss Function ($L$)\n",
    "\n",
    "Given\n",
    "$\n",
    "\\mathcal D = \\{\n",
    "    (\\mathbf x^{(1)}, y^{(1)}),\n",
    "    (\\mathbf x^{(2)}, y^{(2)}),\n",
    "    \\cdots,\n",
    "    (\\mathbf x^{(m)}, y^{(m)})\n",
    "\\}\n",
    "$, want $\\hat y^{(i)} \\approx y^{(i)}$.\n",
    "\n",
    "MSE\\\n",
    "$\\mathcal L(\\hat y, y) = (y - \\hat y)^2$\n",
    "\n",
    "Cross-entropy\\\n",
    "$\\mathcal L(\\hat y, y) = -[y \\log(\\hat y) + (1-y) \\log(1-\\hat y)]$\n",
    "\n",
    "#### Cost Function ($J$) (which is an average of $L$)\n",
    "\n",
    "$J(\\theta) = J(\\mathbf w, b) = \\dfrac{1}{m} \\sum \\limits_{i=1}^{m} \\mathcal L(\\hat y^{(i)}, y^{(i)})$"
   ]
  },
  {
   "cell_type": "code",
   "execution_count": 8,
   "metadata": {},
   "outputs": [
    {
     "data": {
      "image/png": "[encoded data removed]",
      "text/plain": [
       "<Figure size 576x288 with 2 Axes>"
      ]
     },
     "metadata": {
      "needs_background": "light"
     },
     "output_type": "display_data"
    }
   ],
   "source": [
    "import matplotlib.pyplot as plt\n",
    "import numpy as np\n",
    "\n",
    "l = np.linspace(0, 1, 101)\n",
    "y_mesh, y_hat_mesh = np.meshgrid(l, l)\n",
    "L = (y_mesh - y_hat_mesh)**2\n",
    "\n",
    "plt.figure(figsize=(8,4))\n",
    "plt.subplot(1,2,1)\n",
    "plt.title(r'$\\mathcal{L}_{\\mathrm{MSE}}$')\n",
    "plt.contourf(y_mesh, y_hat_mesh, L, levels=20, alpha=.4)\n",
    "plt.axvline(0, c='k', lw=1)\n",
    "plt.xlabel(r'$y$')\n",
    "plt.ylabel(r'$\\hat{y}$')\n",
    "plt.xlim(0,1)\n",
    "plt.ylim(0,1)\n",
    "\n",
    "e = 1e-2\n",
    "l = np.linspace(0+e, 1-e, 101)\n",
    "y_mesh, y_hat_mesh = np.meshgrid(l, l)\n",
    "L = -(y_mesh * np.log(y_hat_mesh) + (1-y_mesh)*np.log(1-y_hat_mesh))\n",
    "\n",
    "plt.subplot(1,2,2)\n",
    "plt.title(r'$\\mathcal{L}_{\\mathrm{CE}}$')\n",
    "plt.contourf(y_mesh, y_hat_mesh, L, levels=20, alpha=.4)\n",
    "plt.axvline(0, c='k', lw=1)\n",
    "plt.xlabel(r'$y$')\n",
    "plt.ylabel(r'$\\hat{y}$')\n",
    "plt.xlim(0,1)\n",
    "plt.ylim(0,1)\n",
    "plt.show()"
   ]
  },
  {
   "cell_type": "markdown",
   "metadata": {},
   "source": [
    "#### Cross-entropy"
   ]
  },
  {
   "cell_type": "markdown",
   "metadata": {},
   "source": [
    "$\\mathcal L(\\hat y, y) = -[y \\log(\\hat y) + (1-y) \\log(1-\\hat y)]$\n",
    "\n",
    "$\\mathcal L(\\hat y, y)$ is a weighted average of $-\\log(\\hat y)$ and $-\\log(1 - \\hat y)$ by $y$ and $1-y$\n",
    "\n",
    "$\\hat y = \\sigma(z)$"
   ]
  },
  {
   "cell_type": "code",
   "execution_count": 9,
   "metadata": {},
   "outputs": [
    {
     "data": {
      "image/png": "[encoded data removed]",
      "text/plain": [
       "<Figure size 648x144 with 3 Axes>"
      ]
     },
     "metadata": {
      "needs_background": "light"
     },
     "output_type": "display_data"
    }
   ],
   "source": [
    "import matplotlib.pyplot as plt\n",
    "import numpy as np\n",
    "\n",
    "z = np.linspace(-4, 4, 801)\n",
    "y_hat = 1 / (1 + np.exp(-z))\n",
    "\n",
    "plt.figure(figsize=(9, 2))\n",
    "plt.subplots_adjust(wspace=.5)\n",
    "\n",
    "plt.subplot(1,3,1)\n",
    "plt.plot(z, y_hat)\n",
    "plt.axvline(0, c='k', lw=1)\n",
    "plt.xlabel(r'$z$')\n",
    "plt.ylabel(r'$\\hat y = \\sigma(z)$')\n",
    "plt.xlim(-4, 4)\n",
    "plt.ylim( 0, 1)\n",
    "plt.xticks([-4,0,4])\n",
    "plt.yticks([0,.5,1])\n",
    "\n",
    "plt.subplot(1,3,2)\n",
    "plt.plot(z, -np.log(y_hat))\n",
    "plt.axvline(0, c='k', lw=1)\n",
    "plt.xlabel(r'$z$')\n",
    "plt.ylabel(r'$-\\mathrm{log} (\\hat y)$')\n",
    "plt.xlim(-4, 4)\n",
    "plt.xticks([-4,0,4])\n",
    "\n",
    "plt.subplot(1,3,3)\n",
    "plt.plot(z, -np.log(1-y_hat))\n",
    "plt.axvline(0, c='k', lw=1)\n",
    "plt.xlabel(r'$z$')\n",
    "plt.ylabel(r'$-\\mathrm{log} (1- \\hat y)$')\n",
    "plt.xlim(-4, 4)\n",
    "plt.xticks([-4,0,4])\n",
    "plt.show()"
   ]
  },
  {
   "cell_type": "markdown",
   "metadata": {},
   "source": [
    "### Derivatives"
   ]
  },
  {
   "cell_type": "code",
   "execution_count": 10,
   "metadata": {},
   "outputs": [
    {
     "data": {
      "image/png": "[encoded data removed]",
      "text/plain": [
       "<Figure size 432x288 with 1 Axes>"
      ]
     },
     "metadata": {
      "needs_background": "light"
     },
     "output_type": "display_data"
    }
   ],
   "source": [
    "import matplotlib.pyplot as plt\n",
    "\n",
    "x = np.linspace(-1, 2, 301)\n",
    "y = x**2\n",
    "\n",
    "i = np.where(1.0 <= x)[0][0]\n",
    "dy = y[i+1] - y[i]\n",
    "dx = x[i+1] - x[i]\n",
    "\n",
    "plt.plot(x, y)\n",
    "plt.axvline(0, lw=1, c='k')\n",
    "plt.axhline(0, lw=1, c='k')\n",
    "plt.axis('square')\n",
    "plt.scatter(x[i], y[i], marker='.')\n",
    "plt.plot([x[i]-100*dx, x[i]+100*dx], [y[i]-100*dy, y[i]+100*dy])\n",
    "plt.show()"
   ]
  },
  {
   "cell_type": "code",
   "execution_count": 11,
   "metadata": {},
   "outputs": [
    {
     "data": {
      "image/png": "[encoded data removed]",
      "text/plain": [
       "<Figure size 1080x216 with 5 Axes>"
      ]
     },
     "metadata": {
      "needs_background": "light"
     },
     "output_type": "display_data"
    }
   ],
   "source": [
    "import torch\n",
    "\n",
    "l = np.linspace(-4, 4, 401)\n",
    "x1 = l\n",
    "x2 = x1 + 1\n",
    "x3 = x2**2\n",
    "x4 = 3*x3\n",
    "x5 = x4 + 1\n",
    "plt.figure(figsize=(15,3))\n",
    "for i, f in enumerate([x1,x2,x3,x4,x5], start=1):\n",
    "    plt.subplot(1,5,i)\n",
    "    plt.title(f\"$x_{i}$\")\n",
    "    plt.plot(l, f)\n",
    "    plt.axvline(0, lw=1, c='grey')\n",
    "    plt.axhline(0, lw=1, c='grey')\n",
    "    plt.xticks(range(-6, 7, 1))\n",
    "    plt.yticks(range(-6, 7, 1))\n",
    "    plt.grid(ls=':')\n",
    "    plt.axis('square')\n",
    "    plt.xlim(-6, 6)\n",
    "    plt.ylim(-6, 6)\n",
    "plt.show()"
   ]
  },
  {
   "cell_type": "markdown",
   "metadata": {},
   "source": [
    "$$\n",
    "x        \\quad \\longrightarrow \\quad\n",
    "x+1      \\quad \\longrightarrow \\quad\n",
    "(x+1)^2  \\quad \\longrightarrow \\quad\n",
    "3(x+1)^2 \\quad \\longrightarrow \\quad\n",
    "3(x+1)^2+1\n",
    "$$\n",
    "\n",
    "<!-- $$\n",
    "\\frac{\\partial{3(x+1)^2+1}}{\\partial{x}} = 6x+6\n",
    "$$ -->\n",
    "\n",
    "$$\n",
    "\\frac{\\partial{x_5}}{\\partial{x_1}}=\n",
    "\n",
    "\\frac{\\partial{x_5}}{\\partial{x_4}}\n",
    "\\frac{\\partial{x_4}}{\\partial{x_3}}\n",
    "\\frac{\\partial{x_3}}{\\partial{x_2}}\n",
    "\\frac{\\partial{x_2}}{\\partial{x_1}}=\n",
    "\n",
    "\\frac{\\partial{3(x+1)^2+1}}{\\partial{3(x+1)^2}}\n",
    "\\frac{\\partial{3(x+1)^2}}{\\partial{(x+1)^2}}\n",
    "\\frac{\\partial{(x+1)^2}}{\\partial{(x+1)}}\n",
    "\\frac{\\partial{(x+1)}}{\\partial{x}}=\n",
    "\n",
    "1 \\cdot 3 \\cdot 2(x+1) \\cdot 1=\n",
    "\n",
    "6x+6\n",
    "$$"
   ]
  },
  {
   "cell_type": "markdown",
   "metadata": {},
   "source": [
    "$$\n",
    "\\begin{align}\n",
    "    \\sigma(x) &= \\frac{1}{1+e^{-x}}\\\\\n",
    "\n",
    "    \\frac{\\mathrm d}{\\mathrm d x} \\sigma(x) &= \\frac{\\mathrm d}{\\mathrm d x} (1+e^{-x})^{-1} \\\\\n",
    "    &= -(1+e^{-x})^{-2} \\cdot (-e^{-x}) \\\\\n",
    "    &= \\frac{1}{1+e^{-x}} \\frac{e^{-x}}{1+e^{-x}} \\\\\n",
    "    &= \\frac{1}{1+e^{-x}} \\left(\\frac{1+e^{-x}}{1+e^{-x}} - \\frac{1}{1+e^{-x}} \\right) \\\\\n",
    "    &= \\frac{1}{1+e^{-x}} \\left(1 - \\frac{1}{1+e^{-x}} \\right) \\\\\n",
    "    &= \\sigma(x)(1-\\sigma(x))\n",
    "\\end{align}\n",
    "$$"
   ]
  },
  {
   "cell_type": "markdown",
   "metadata": {},
   "source": [
    "$$\n",
    "\\begin{align}\n",
    "    \\mathcal L_{\\mathrm{BCE}} &= -[y \\log(\\hat y) + (1-y) \\log(1-\\hat y)]\\\\\n",
    "    \n",
    "    \\frac{\\mathrm d}{\\mathrm d \\hat y} \\mathcal L_{BCE} &= -\\left(\\frac{y}{\\hat y} - \\frac{1-y}{1-\\hat y}\\right) \\\\\n",
    "    &= \\frac{\\hat y - y}{\\hat y (1-\\hat y)}\n",
    "\n",
    "\\end{align}\n",
    "$$"
   ]
  },
  {
   "cell_type": "markdown",
   "metadata": {},
   "source": [
    "$$\n",
    "\\begin{align}\n",
    "    \\frac{\\mathrm d \\mathcal L_{BCE}}{\\mathrm d x}\n",
    "    =\n",
    "    \\frac{\\mathrm d \\mathcal L_{BCE}}{\\mathrm d \\sigma(x)}\n",
    "    \\frac{\\mathrm d \\sigma(x)}{\\mathrm d x}\n",
    "    =\n",
    "    \\frac{\\mathrm d \\mathcal L_{BCE}}{\\mathrm d \\hat y}\n",
    "    \\frac{\\mathrm d \\hat y}{\\mathrm d x}\n",
    "    =\n",
    "    \\frac{\\hat y - y}{\\hat y (1-\\hat y)} \\hat y (1-\\hat y) = \\hat y - y\n",
    "\\end{align}\n",
    "$$"
   ]
  },
  {
   "cell_type": "markdown",
   "metadata": {},
   "source": [
    "$x$ as a single data with a single feature (with no bias)\n",
    "\n",
    "$$\n",
    "\\begin{align}\n",
    "    z &= wx\\\\\n",
    "    a &= \\sigma(z) = \\frac{1}{1+e^{-z}} \\\\\n",
    "    \\mathcal L &= -(y \\log a + (1-y) \\log(1-a))\\\\\n",
    "\\end{align}\n",
    "$$"
   ]
  },
  {
   "cell_type": "markdown",
   "metadata": {},
   "source": [
    "$$\n",
    "\\begin{align}\n",
    "    \\frac{\\mathrm d \\mathcal L}{\\mathrm d w} &=\n",
    "    \\frac{\\mathrm d \\mathcal L}{\\mathrm d a}\n",
    "    \\frac{\\mathrm d a}{\\mathrm d z}\n",
    "    \\frac{\\mathrm d z}{\\mathrm d w}\\\\\n",
    "    &= (a-y) \\frac{\\mathrm d z}{\\mathrm d w}\\\\\n",
    "    &= (a-y) x\n",
    "\\end{align}\n",
    "$$"
   ]
  },
  {
   "cell_type": "markdown",
   "metadata": {},
   "source": [
    "$x$ as a single data with a single feature (with bias)\n",
    "\n",
    "$$\n",
    "\\begin{align}\n",
    "    z &= wx + b\\\\\n",
    "    a &= \\sigma(z) = \\frac{1}{1+e^{-z}} \\\\\n",
    "    \\mathcal L &= -(y \\log a + (1-y) \\log(1-a))\\\\\n",
    "\\end{align}\n",
    "$$"
   ]
  },
  {
   "cell_type": "markdown",
   "metadata": {},
   "source": [
    "$$\n",
    "\\begin{align}\n",
    "    \\frac{\\partial \\mathcal L}{\\partial w} &=\n",
    "    \\frac{\\partial \\mathcal L}{\\partial a}\n",
    "    \\frac{\\partial a}{\\partial z}\n",
    "    \\frac{\\partial z}{\\partial w}\\\\\n",
    "    &= (a-y) \\frac{\\partial z}{\\partial w}\\\\\n",
    "    &= (a-y) x\n",
    "\\end{align}\n",
    "$$\n",
    "\n",
    "$$\n",
    "\\begin{align}\n",
    "    \\frac{\\partial \\mathcal L}{\\partial b} &=\n",
    "    \\frac{\\partial \\mathcal L}{\\partial a}\n",
    "    \\frac{\\partial a}{\\partial z}\n",
    "    \\frac{\\partial z}{\\partial b}\\\\\n",
    "    &= (a-y) \\frac{\\partial z}{\\partial b}\\\\\n",
    "    &= (a-y)\n",
    "\\end{align}\n",
    "$$"
   ]
  },
  {
   "cell_type": "markdown",
   "metadata": {},
   "source": [
    "$\\mathbf x$ as a single data with `n` features\n",
    "\n",
    "$$\n",
    "\\mathbf x =\n",
    "\\begin{bmatrix}\n",
    "    x^{(1)}\\\\\n",
    "    x^{(2)}\\\\\n",
    "    \\vdots \\\\\n",
    "    x^{(n)}\\\\\n",
    "\\end{bmatrix}\n",
    "$$\n",
    "\n",
    "$$\n",
    "\\begin{align}\n",
    "    z &= \\mathbf w \\cdot \\mathbf x + b \\\\\n",
    "      &= \\mathbf w_{n \\times 1}^\\intercal \\mathbf x_{n \\times 1} + b \\\\\n",
    "      &= (w^{(1)}x^{(1)} + w^{(1)}x^{(1)} + \\cdots + w^{(n)}x^{(n)}) + b \\\\\n",
    "    a &= \\sigma(z) = \\frac{1}{1+e^{-z}} \\\\\n",
    "    \\mathcal L &= -(y \\log a + (1-y) \\log(1-a))\\\\\n",
    "\\end{align}\n",
    "$$"
   ]
  },
  {
   "cell_type": "markdown",
   "metadata": {},
   "source": [
    "$$\n",
    "\\begin{align}\n",
    "    \\frac{\\partial \\mathcal L}{\\partial w^{(i)}} &=\n",
    "    \\frac{\\partial \\mathcal L}{\\partial a}\n",
    "    \\frac{\\partial a}{\\partial z}\n",
    "    \\frac{\\partial z}{\\partial w^{(i)}}\\\\\n",
    "    &= (a-y) \\frac{\\partial z}{\\partial w^{(i)}}\\\\\n",
    "    &= (a-y) x^{(i)}\n",
    "\\end{align}\n",
    "$$\n",
    "\n",
    "$$\n",
    "\\begin{align}\n",
    "    \\frac{\\partial \\mathcal L}{\\partial \\mathbf w} &=\n",
    "    \\frac{\\partial \\mathcal L}{\\partial a}\n",
    "    \\frac{\\partial a}{\\partial z}\n",
    "    \\frac{\\partial z}{\\partial \\mathbf w}\\\\\n",
    "    &= (a-y) \\frac{\\partial z}{\\partial \\mathbf w}\\\\\n",
    "    &= (a-y) \\mathbf x\n",
    "\\end{align}\n",
    "$$\n",
    "\n",
    "$$\n",
    "\\begin{align}\n",
    "    \\frac{\\partial \\mathcal L}{\\partial b} &=\n",
    "    \\frac{\\partial \\mathcal L}{\\partial a}\n",
    "    \\frac{\\partial a}{\\partial z}\n",
    "    \\frac{\\partial z}{\\partial b}\\\\\n",
    "    &= (a-y) \\frac{\\partial z}{\\partial b}\\\\\n",
    "    &= (a-y)\n",
    "\\end{align}\n",
    "$$"
   ]
  },
  {
   "cell_type": "markdown",
   "metadata": {},
   "source": [
    "$\\mathbf X$ as `m` data ($\\mathbf x$) with `n` features\n",
    "\n",
    "$$\n",
    "\\mathbf X =\n",
    "\\begin{bmatrix}\n",
    "    x^{(1,1)} & x^{(1,2)} & \\cdots & x^{(1,m)} \\\\\n",
    "    x^{(2,1)} & x^{(2,2)} & \\cdots & x^{(2,m)} \\\\\n",
    "    \\vdots    & \\vdots    & \\ddots & \\vdots    \\\\\n",
    "    x^{(n,1)} & x^{(n,2)} & \\cdots & x^{(n,m)} \\\\\n",
    "\\end{bmatrix}_{n \\times m}\n",
    "\n",
    "\\mathbf X =\n",
    "\\begin{bmatrix}\n",
    "    \\vert & \\vert && \\vert\\\\\n",
    "    \\mathbf x^{(1)} & \\mathbf x^{(2)} & \\cdots & \\mathbf x^{(m)} \\\\\n",
    "    \\vert & \\vert && \\vert\\\\\n",
    "\\end{bmatrix}_{n_{\\mathbf x} \\times m}\n",
    "\n",
    "\\mathbf x^{(i)} =\n",
    "\\begin{bmatrix}\n",
    "  x^{(1)}\\\\\n",
    "  x^{(2)}\\\\\n",
    "  \\vdots \\\\\n",
    "  x^{(n)}\\\\\n",
    "\\end{bmatrix}\n",
    "$$\n",
    "\n",
    "$$\n",
    "\\begin{align}\n",
    "  Z\n",
    "  &= \\mathbf w \\cdot \\mathbf X + b \\\\\n",
    "  &= \\mathbf w_{n \\times 1}^\\intercal \\mathbf x_{n \\times m} + b \\\\\n",
    "  &=\n",
    "  \\begin{bmatrix}\n",
    "    \\mathbf w \\cdot \\mathbf x^{(1)} &\n",
    "    \\mathbf w \\cdot \\mathbf x^{(2)} &\n",
    "    \\cdots &\n",
    "    \\mathbf w \\cdot \\mathbf x^{(m)}\n",
    "  \\end{bmatrix}_{1 \\times m} + b \\\\\n",
    "  &=\n",
    "  \\begin{bmatrix}\n",
    "    \\mathbf w \\cdot \\mathbf x^{(1)} + b &\n",
    "    \\mathbf w \\cdot \\mathbf x^{(2)} + b &\n",
    "    \\cdots &\n",
    "    \\mathbf w \\cdot \\mathbf x^{(m)} + b\n",
    "  \\end{bmatrix}_{1 \\times m} \\\\\n",
    "  &=\n",
    "  \\begin{bmatrix}\n",
    "    z^{(1)} &\n",
    "    z^{(2)} &\n",
    "    \\cdots &\n",
    "    z^{(m)}\n",
    "  \\end{bmatrix}_{1 \\times m} \\\\\n",
    "\n",
    "  A\n",
    "  &= \\sigma(Z) = \\frac{1}{1+e^{-Z}} \\\\\n",
    "  &=\n",
    "  \\begin{bmatrix}\n",
    "    a^{(1)} &\n",
    "    a^{(2)} &\n",
    "    \\cdots &\n",
    "    a^{(m)}\n",
    "  \\end{bmatrix}_{1 \\times m} \\\\\n",
    "\n",
    "  Y\n",
    "  &=\n",
    "  \\begin{bmatrix}\n",
    "    y^{(1)} &\n",
    "    y^{(2)} &\n",
    "    \\cdots &\n",
    "    y^{(m)}\n",
    "  \\end{bmatrix}_{1 \\times m} \\\\\n",
    "\n",
    "  L\n",
    "  &=\n",
    "  \\begin{bmatrix}\n",
    "    \\mathcal L^{(1)} &\n",
    "    \\mathcal L^{(2)} &\n",
    "    \\cdots &\n",
    "    \\mathcal L^{(m)}\n",
    "  \\end{bmatrix}_{1 \\times m} \\\\\n",
    "\n",
    "  J &= \\frac{1}{m} \\sum_{i=i}^{m} \\mathcal L^{(i)} \\\\\n",
    "  &=\n",
    "  \\begin{bmatrix}\n",
    "    \\frac{1}{m} \\mathcal L^{(1)} &\n",
    "    \\frac{1}{m} \\mathcal L^{(2)} &\n",
    "    \\cdots &\n",
    "    \\frac{1}{m} \\mathcal L^{(m)}\n",
    "  \\end{bmatrix}_{1 \\times m} \\\\\n",
    "\\end{align}\n",
    "$$"
   ]
  },
  {
   "cell_type": "markdown",
   "metadata": {},
   "source": [
    "$$\n",
    "\\begin{align}\n",
    "    \\frac{\\partial J}{\\partial \\mathbf w}\n",
    "    &=\n",
    "    \\frac{\\partial J}{\\partial L}\n",
    "    \\frac{\\partial L}{\\partial A}\n",
    "    \\frac{\\partial A}{\\partial Z}\n",
    "    \\frac{\\partial Z}{\\partial \\mathbf w}\\\\\n",
    "    &=\n",
    "    \\sum_{i=1}^{m}\n",
    "    \\frac{\\partial J}{\\partial \\mathcal L^{(i)}}\n",
    "    \\frac{\\partial \\mathcal L^{(i)}}{\\partial a^{(i)}}\n",
    "    \\frac{\\partial a^{(i)}}{\\partial z^{(i)}}\n",
    "    \\frac{\\partial z^{(i)}}{\\partial \\mathbf w}\\\\\n",
    "    &=\n",
    "    \\sum_{i=1}^{m}\n",
    "    \\frac{1}{m}\n",
    "    (a^{(i)} - y^{(i)})\n",
    "    \\frac{\\partial z^{(i)}}{\\partial \\mathbf w}\\\\\n",
    "    &=\n",
    "    \\frac{1}{m}\n",
    "    \\sum_{i=1}^{m}\n",
    "    (a^{(i)} - y^{(i)})\n",
    "    \\mathbf x^{(i)}\\\\\n",
    "    &=\n",
    "    \\left((A-Y)_{1 \\times m} \\circ \\mathbf X_{n_{\\mathbf x} \\times m}\\right)_{n_{\\mathbf x} \\times m}\n",
    "    \\begin{bmatrix}\n",
    "        \\vert\\\\\n",
    "        \\frac{1}{m}\\\\\n",
    "        \\vert\n",
    "    \\end{bmatrix}_{m \\times 1}\\\\\n",
    "\n",
    "    \\frac{\\partial J}{\\partial b}\n",
    "    &=\n",
    "    (A-Y)_{1 \\times m}\n",
    "    \\begin{bmatrix}\n",
    "        \\vert\\\\\n",
    "        \\frac{1}{m}\\\\\n",
    "        \\vert\n",
    "    \\end{bmatrix}_{m \\times 1}\\\\\n",
    "\\end{align}\n",
    "$$"
   ]
  },
  {
   "cell_type": "markdown",
   "metadata": {},
   "source": [
    "outcome of a sigmoid $\\sigma(z)$ is interpreted as `a` or `y_hat` below (which stands for value post-activation)"
   ]
  },
  {
   "cell_type": "code",
   "execution_count": 110,
   "metadata": {},
   "outputs": [
    {
     "name": "stdout",
     "output_type": "stream",
     "text": [
      "a  = 0.5934247928044599\n",
      "y  = 0\n",
      "dz = 0.5934247928044599\n"
     ]
    }
   ],
   "source": [
    "import numpy as np\n",
    "\n",
    "z = np.random.random()\n",
    "a = y_hat = np.exp(z) / (1 + np.exp(z)) # same as 1 / (1 + np.exp(-z))\n",
    "y = np.random.randint(0, 2)\n",
    "\n",
    "print(f\"{a  = }\")\n",
    "print(f\"{y  = }\")\n",
    "\n",
    "dz = a - y\n",
    "print(f\"{dz = }\") # this is a value of dL/dz"
   ]
  },
  {
   "cell_type": "code",
   "execution_count": 112,
   "metadata": {},
   "outputs": [
    {
     "name": "stdout",
     "output_type": "stream",
     "text": [
      "A  = array([[0.39562484, 0.8681066 , 0.64578442, 0.37725492, 0.70163249]])\n",
      "Y  = array([[1, 0, 0, 0, 0]])\n",
      "dZ = array([[-0.60437516,  0.8681066 ,  0.64578442,  0.37725492,  0.70163249]])\n"
     ]
    }
   ],
   "source": [
    "m = 5 # data size\n",
    "\n",
    "A = np.random.random((1, m))\n",
    "Y = np.random.randint(0, 2, (1, m))\n",
    "print(f\"{A  = }\")\n",
    "print(f\"{Y  = }\")\n",
    "\n",
    "dZ = A - Y\n",
    "print(f\"{dZ = }\") # this is a value of dL/dz"
   ]
  },
  {
   "cell_type": "markdown",
   "metadata": {},
   "source": [
    "### Vectorization"
   ]
  },
  {
   "cell_type": "code",
   "execution_count": null,
   "metadata": {},
   "outputs": [
    {
     "name": "stdout",
     "output_type": "stream",
     "text": [
      "x.shape = (5,)\n",
      "row vector x.shape = (1, 5)\n",
      "column vector x.shape = (5, 1)\n"
     ]
    }
   ],
   "source": [
    "import numpy as np\n",
    "\n",
    "x = np.random.randn(5)\n",
    "print(f\"{x.shape = }\")\n",
    "\n",
    "# this vector x is not a row or column vector. this is a rank 1 array.\n",
    "# we need a shape of (1,5) or (5,1) to represent a row and column vectors.\n",
    "\n",
    "x = np.random.randn(1, 5)\n",
    "print(f\"row vector {x.shape = }\")\n",
    "\n",
    "x = np.random.randn(5, 1)\n",
    "print(f\"column vector {x.shape = }\")"
   ]
  },
  {
   "cell_type": "markdown",
   "metadata": {},
   "source": [
    "#### Broadcasting"
   ]
  },
  {
   "cell_type": "code",
   "execution_count": 127,
   "metadata": {},
   "outputs": [
    {
     "name": "stdout",
     "output_type": "stream",
     "text": [
      "column wise\n",
      "[[3 3 0]\n",
      " [5 1 7]]\n",
      "\n",
      "[[9]\n",
      " [7]]\n",
      "\n",
      "[[12 12  9]\n",
      " [12  8 14]]\n",
      "\n",
      "row wise\n",
      "[[5 6 0]\n",
      " [5 7 5]]\n",
      "\n",
      "[[4 5 6]]\n",
      "\n",
      "[[ 9 11  6]\n",
      " [ 9 12 11]]\n",
      "\n"
     ]
    }
   ],
   "source": [
    "import numpy as np\n",
    "\n",
    "a = np.random.randint(0, 10, (2, 3))\n",
    "b = np.random.randint(0, 10, (2, 1))\n",
    "print('column wise')\n",
    "print(a, end='\\n\\n')\n",
    "print(b, end='\\n\\n')\n",
    "print(a+b, end='\\n\\n')\n",
    "\n",
    "a = np.random.randint(0, 10, (2, 3))\n",
    "b = np.random.randint(0, 10, (1, 3))\n",
    "print('row wise')\n",
    "print(a, end='\\n\\n')\n",
    "print(b, end='\\n\\n')\n",
    "print(a+b, end='\\n\\n')"
   ]
  },
  {
   "cell_type": "code",
   "execution_count": null,
   "metadata": {},
   "outputs": [],
   "source": []
  }
 ],
 "metadata": {
  "kernelspec": {
   "display_name": "base",
   "language": "python",
   "name": "python3"
  },
  "language_info": {
   "codemirror_mode": {
    "name": "ipython",
    "version": 3
   },
   "file_extension": ".py",
   "mimetype": "text/x-python",
   "name": "python",
   "nbconvert_exporter": "python",
   "pygments_lexer": "ipython3",
   "version": "3.9.12"
  },
  "orig_nbformat": 4
 },
 "nbformat": 4,
 "nbformat_minor": 2
}
