{
 "cells": [
  {
   "cell_type": "markdown",
   "metadata": {},
   "source": [
    "### Jacobian"
   ]
  },
  {
   "cell_type": "markdown",
   "metadata": {},
   "source": [
    "$$\n",
    "\\begin{align*}\n",
    "    f_1(x_1, x_2) &= x_1^2 x_2\\\\\n",
    "    f_2(x_1, x_2) &= 5x_1 + \\sin x_2\\\\\n",
    "    \\mathbf f(x_1, x_2) = \\mathbf f\\left(\n",
    "        \\begin{bmatrix}\n",
    "            x_1\\\\\n",
    "            x_2\\\\\n",
    "        \\end{bmatrix}\n",
    "    \\right) &=\n",
    "    \\begin{bmatrix}\n",
    "        f_1(x_1, x_2)\\\\\n",
    "        f_2(x_1, x_2)\n",
    "    \\end{bmatrix} =\n",
    "    \\begin{bmatrix}\n",
    "        x_1^2 x_2\\\\\n",
    "        5x_1 + \\sin x_2\n",
    "    \\end{bmatrix}\\\\\n",
    "\\end{align*}\n",
    "$$\n",
    "\n",
    "$$\n",
    "\\begin{align*}\n",
    "    \\mathbf J = \\mathbf J_{\\mathbf f} = D \\mathbf f = \\nabla \\mathbf f = \\mathbf{grad} \\, \\mathbf f\n",
    "\\end{align*}\n",
    "$$\n",
    "\n",
    "$$\n",
    "\\nabla = \\sum_{i=1}^{n} \\frac{1}{h_i} \\frac{\\partial}{\\partial x_i} \\hat{\\mathbf x}_i =\n",
    "\n",
    "\\begin{bmatrix}\n",
    "    \\frac{\\partial}{\\partial x_1} \\\\\n",
    "    \\frac{\\partial}{\\partial x_2} \\\\\n",
    "    \\vdots \\\\\n",
    "    \\frac{\\partial}{\\partial x_n}\n",
    "\\end{bmatrix}\n",
    "$$\n",
    "\n",
    "$$\n",
    "f(x,y,z) = 2x + 3y^2 - sin(z)\\\\\n",
    "\\nabla f = 2\\hat{\\mathbf x} + 6\\hat{\\mathbf y} - cos(z)\\hat{\\mathbf z}\n",
    "$$"
   ]
  },
  {
   "cell_type": "markdown",
   "metadata": {},
   "source": [
    "#### difference between $\\Delta x$ and $\\mathrm d x$\n",
    "\n",
    "$\\Delta x$ is about secant line \\\n",
    "$\\mathrm d x$ is about tangent line (also $\\delta x$, $\\partial{x}$, etc.)\n",
    "\n",
    "https://math.stackexchange.com/questions/619665/the-difference-between-delta-x-delta-x-and-dx"
   ]
  },
  {
   "cell_type": "code",
   "execution_count": 26,
   "metadata": {},
   "outputs": [],
   "source": [
    "import numpy as np\n",
    "import matplotlib.pyplot as plt\n",
    "\n",
    "def f1(x1: np.array, x2: np.array) -> np.array:\n",
    "    y = x1**2 * x2\n",
    "    return y # (1, n**2)\n",
    "\n",
    "def f2(x1: np.array, x2: np.array) -> np.array:\n",
    "    y = x1*5 + np.sin(x2)\n",
    "    return y # (1, n**2)\n",
    "\n",
    "def fs(x1, x2):\n",
    "    return np.stack([f1(x1, x2), f2(x1, x2)]) # (2, n**2)"
   ]
  }
 ],
 "metadata": {
  "kernelspec": {
   "display_name": "base",
   "language": "python",
   "name": "python3"
  },
  "language_info": {
   "codemirror_mode": {
    "name": "ipython",
    "version": 3
   },
   "file_extension": ".py",
   "mimetype": "text/x-python",
   "name": "python",
   "nbconvert_exporter": "python",
   "pygments_lexer": "ipython3",
   "version": "3.9.12"
  },
  "orig_nbformat": 4
 },
 "nbformat": 4,
 "nbformat_minor": 2
}
