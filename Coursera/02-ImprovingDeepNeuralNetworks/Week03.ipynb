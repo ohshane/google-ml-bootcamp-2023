{
 "cells": [
  {
   "cell_type": "markdown",
   "metadata": {},
   "source": [
    "### Hyperparameter tuning\n",
    "\n",
    "Small set of hyperparameters (ML): grid search\\\n",
    "Large set of hyperparameters (DL): random values / bayesian optimization"
   ]
  },
  {
   "cell_type": "markdown",
   "metadata": {},
   "source": [
    "Gaussian Process (GP) / Bayesian Optimization\n",
    "\n",
    "In supervised learning, we observe inputs $\\mathbf x_i$ and outputs $y_i$.\\\n",
    "We assume that $y_i = f(\\mathbf x_i)$ for some unknown function $f$, possibly corrupted by noise.\\\n",
    "The optimal approach is to infer (conjecture) a _distribution over functions_ given the data, $p(f|\\mathbf X, \\mathbf y)$, and then use this to make predictions given new inputs.\n",
    "\n",
    "$$\n",
    "p(y_*|\\mathbf x_*, \\mathbf X, \\mathbf y) = \\int p(y_*|f,\\mathbf x_*) p(f|\\mathbf X, \\mathbf y)df\n",
    "$$\n",
    "\n",
    "Up until now, we have focused on parametric representations for the function $f$, so that instead of inferring $p(f|\\mathcal D)$, we infer $p(\\bm{\\theta}|\\mathcal D)$.\\\n",
    "We discuss a way to perform Bayesian inference over functions themselves.\n",
    "\n",
    "A GP defines a prior over functions $f$, which can be converted into a posterior over functions once we have seen some data $\\mathbf x_i$.\n",
    "\n",
    "we only need to be able to define a distribution over the function’s values at a finite, but arbitrary, set of points, say $\\mathbf x_1, \\cdots \\mathbf x_N$.\n",
    "\n",
    "A GP assumes that $p(f(x_1), \\cdots, f(x_N))$ is jointly Gaussian"
   ]
  },
  {
   "cell_type": "code",
   "execution_count": 9,
   "metadata": {},
   "outputs": [
    {
     "data": {
      "image/png": "[encoded data removed]",
      "text/plain": [
       "<Figure size 576x576 with 4 Axes>"
      ]
     },
     "metadata": {
      "needs_background": "light"
     },
     "output_type": "display_data"
    }
   ],
   "source": [
    "import numpy as np\n",
    "import torch\n",
    "import matplotlib.pyplot as plt\n",
    "\n",
    "plt.figure(figsize=(8,8))\n",
    "plt.subplot(2,2,1)\n",
    "plt.title('np.random.rand()')\n",
    "plt.hist(np.random.rand(10000), bins=100)\n",
    "plt.subplot(2,2,2)\n",
    "plt.title('np.random.randn()')\n",
    "plt.hist(np.random.randn(10000), bins=100)\n",
    "\n",
    "plt.subplot(2,2,3)\n",
    "plt.title('torch.rand()')\n",
    "plt.hist(torch.rand(10000).numpy(), bins=100)\n",
    "plt.subplot(2,2,4)\n",
    "plt.title('torch.randn()')\n",
    "plt.hist(torch.randn(10000).numpy(), bins=100)\n",
    "plt.show()"
   ]
  },
  {
   "cell_type": "markdown",
   "metadata": {},
   "source": [
    "Batch Normalization (BN)\n",
    "\n",
    "$\\mathbf x \\to \\Phi(\\cdot) \\to \\mathbf a$\\\n",
    "$\\mathbf x \\to \\text{BN}(\\cdot) \\to \\mathbf z \\to \\Phi(\\cdot) \\to \\mathbf a$ (prefered) \\\n",
    "$\\mathbf x \\to \\Phi(\\cdot) \\to \\mathbf a \\to \\text{BN}(\\cdot) \\to \\mathbf z$\n",
    "\n",
    "Input: Values of $x$ over mini-batch: $\\mathcal B = \\{x_{1:m}\\}$\\\n",
    "Output: $\\{y_i = \\text{BN}_{\\gamma, \\beta}(x_i)\\}$\n",
    "\n",
    "$$\n",
    "\\begin{align*}\n",
    "    \\mu_{\\mathcal B} &\\leftarrow\n",
    "    \\frac{1}{m} \\sum_{i=1}^{m} x_i \\\\\n",
    "\n",
    "    \\sigma_{\\mathcal B}^{2} &\\leftarrow \n",
    "    \\frac{1}{m} \\sum_{i=1}^{m} {(x_i - \\mu_{\\mathcal B})^2} \\\\\n",
    "\n",
    "    \\hat{x}_i &\\leftarrow\n",
    "    \\frac{x_i - \\mu_{\\mathcal B}}{\\sqrt{\\sigma_{\\mathcal B}^2 + \\epsilon}}\\\\\n",
    "\n",
    "    y_i &\\leftarrow\n",
    "    \\gamma \\hat{x}_i + \\beta \\equiv \\text{BN}_{\\gamma, \\beta}(x_i)\n",
    "\\end{align*}\n",
    "$$\n",
    "\n",
    "if $\\gamma = \\sqrt{\\sigma^2 + \\epsilon}$ and $\\beta = \\mu$, then $y_i = x_i$."
   ]
  },
  {
   "cell_type": "code",
   "execution_count": null,
   "metadata": {},
   "outputs": [],
   "source": []
  }
 ],
 "metadata": {
  "kernelspec": {
   "display_name": "base",
   "language": "python",
   "name": "python3"
  },
  "language_info": {
   "codemirror_mode": {
    "name": "ipython",
    "version": 3
   },
   "file_extension": ".py",
   "mimetype": "text/x-python",
   "name": "python",
   "nbconvert_exporter": "python",
   "pygments_lexer": "ipython3",
   "version": "3.9.12"
  },
  "orig_nbformat": 4
 },
 "nbformat": 4,
 "nbformat_minor": 2
}
