{
 "cells": [
  {
   "cell_type": "markdown",
   "metadata": {},
   "source": [
    "### Convolution\n",
    "\n",
    "$g$ as a kernel\n",
    "\n",
    "<img src=\"https://upload.wikimedia.org/wikipedia/commons/2/21/Comparison_convolution_correlation.svg\" width=\"500\">\n",
    "\n",
    "$$\n",
    "\\begin{align*}\n",
    "    * &= \\text{convolution}\\\\\n",
    "    \\star &= \\text{cross-correlation}\n",
    "\\end{align*}\n",
    "$$\n",
    "\n",
    "We usually say cross-correlation ($\\kappa \\star x$) operation as convolution in deep learning.\\\n",
    "The left side of a star ($\\star$) operation is the kernel ($\\kappa$).\n",
    "\n",
    "#### notation alert!\n",
    "$m \\times n_H \\times n_W \\times n_C$ : Andrew Ng's \\\n",
    "$m \\times n_C \\times n_H \\times n_W$ : Torch style"
   ]
  },
  {
   "cell_type": "markdown",
   "metadata": {},
   "source": [
    "#### Padding\n",
    "\n",
    "Padding is a crucial concept in deep learning when performing convolutional operations on images or data. It addresses two main issues:\n",
    "\n",
    "- Maintaining Output Dimensions:\\\n",
    "Standard convolutional operations can reduce the size of the input. This can lead to a problem where, after multiple layers of convolution, the image becomes very small. Padding is used to keep the output size the same as the input size.\n",
    "\n",
    "- Preserving Edge Information:\\\n",
    "Pixels at the edges of an image are less influential in standard convolution because they are used in fewer positions. Padding helps reduce the loss of information at the image edges.\n",
    "Padding is done by adding extra information, usually zeros, around the edges of the input data. The formula to calculate the output size after padding is:\n"
   ]
  },
  {
   "cell_type": "markdown",
   "metadata": {},
   "source": [
    "#### Padding\n",
    "\n",
    "Padding is a crucial concept in deep learning when performing convolutional operations on images or data. It addresses two main issues:\n",
    "\n",
    "- Maintaining Output Dimensions:\\\n",
    "Standard convolutional operations can reduce the size of the input. This can lead to a problem where, after multiple layers of convolution, the image becomes very small. Padding is used to keep the output size the same as the input size.\n",
    "\n",
    "- Preserving Edge Information:\\\n",
    "Pixels at the edges of an image are less influential in standard convolution because they are used in fewer positions. Padding helps reduce the loss of information at the image edges.\n",
    "Padding is done by adding extra information, usually zeros, around the edges of the input data. The formula to calculate the output size after padding is:\n"
   ]
  },
  {
   "cell_type": "code",
   "execution_count": 1,
   "metadata": {},
   "outputs": [],
   "source": [
    "import numpy as np\n",
    "import matplotlib.pyplot as plt"
   ]
  },
  {
   "cell_type": "code",
   "execution_count": 88,
   "metadata": {},
   "outputs": [
    {
     "data": {
      "image/png": "[encoded data removed]",
      "text/plain": [
       "<Figure size 432x129.6 with 3 Axes>"
      ]
     },
     "metadata": {},
     "output_type": "display_data"
    }
   ],
   "source": [
    "vfilter = \\\n",
    "    np.array([[ 1, 0,-1],\n",
    "              [ 1, 0,-1],\n",
    "              [ 1, 0,-1]])\n",
    "\n",
    "sobel_filter = \\\n",
    "    np.array([[ 1, 0,-1],\n",
    "              [ 2, 0,-2], # the '2's in the horizontal direction increase robustness\n",
    "              [ 1, 0,-1]])\n",
    "\n",
    "schorr_filter = \\\n",
    "    np.array([[ 3, 0, -3],\n",
    "              [10, 0,-10],\n",
    "              [ 3, 0, -3]])\n",
    "\n",
    "plt.figure(figsize=(6, 1.8))\n",
    "plt.subplot(1,3,1)\n",
    "plt.title('vertical filter')\n",
    "plt.pcolor(vfilter, cmap='binary_r')\n",
    "plt.axis('equal')\n",
    "plt.xticks([])\n",
    "plt.yticks([])\n",
    "\n",
    "plt.subplot(1,3,2)\n",
    "plt.title('sobel filter')\n",
    "plt.pcolor(sobel_filter, cmap='binary_r')\n",
    "plt.axis('equal')\n",
    "plt.xticks([])\n",
    "plt.yticks([])\n",
    "\n",
    "plt.subplot(1,3,3)\n",
    "plt.title('schorr filter')\n",
    "plt.pcolor(schorr_filter, cmap='binary_r')\n",
    "plt.axis('equal')\n",
    "plt.xticks([])\n",
    "plt.yticks([])\n",
    "\n",
    "plt.show()"
   ]
  },
  {
   "cell_type": "code",
   "execution_count": null,
   "metadata": {},
   "outputs": [],
   "source": []
  }
 ],
 "metadata": {
  "kernelspec": {
   "display_name": "base",
   "language": "python",
   "name": "python3"
  },
  "language_info": {
   "codemirror_mode": {
    "name": "ipython",
    "version": 3
   },
   "file_extension": ".py",
   "mimetype": "text/x-python",
   "name": "python",
   "nbconvert_exporter": "python",
   "pygments_lexer": "ipython3",
   "version": "3.9.12"
  },
  "orig_nbformat": 4
 },
 "nbformat": 4,
 "nbformat_minor": 2
}
