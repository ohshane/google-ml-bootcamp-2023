{
 "cells": [
  {
   "cell_type": "markdown",
   "metadata": {},
   "source": [
    "### Residual block"
   ]
  },
  {
   "cell_type": "code",
   "execution_count": 16,
   "metadata": {},
   "outputs": [
    {
     "data": {
      "text/plain": [
       "array([[0.3579266 ],\n",
       "       [0.94916421],\n",
       "       [0.        ],\n",
       "       [0.99054694],\n",
       "       [0.        ]])"
      ]
     },
     "execution_count": 16,
     "metadata": {},
     "output_type": "execute_result"
    }
   ],
   "source": [
    "import numpy as np\n",
    "import matplotlib.pyplot as plt\n",
    "\n",
    "x = np.random.randn(5,1)\n",
    "w = np.random.randn(5,5) * 0.01\n",
    "b = np.random.randn(5,1)\n",
    "\n",
    "def linear(x):\n",
    "    return w @ x + b\n",
    "\n",
    "def relu(x):\n",
    "    x[np.where(x < 0)] = 0\n",
    "    return x\n",
    "\n",
    "x = linear(x)\n",
    "x = relu(x)\n",
    "\n",
    "a = x           # ──┐\n",
    "                #   │\n",
    "x = linear(x)   #   │\n",
    "x = relu(x)     #   a\n",
    "                #   │\n",
    "x = linear(x)   #   │\n",
    "x = relu(x + a) # ──┘\n",
    "\n",
    "a = x           # ──┐\n",
    "                #   │\n",
    "x = linear(x)   #   │\n",
    "x = relu(x)     #   a\n",
    "                #   │\n",
    "x = linear(x)   #   │\n",
    "x = relu(x + a) # ──┘\n",
    "\n",
    "a = x           # ──┐\n",
    "                #   │\n",
    "x = linear(x)   #   │\n",
    "x = relu(x)     #   a\n",
    "                #   │\n",
    "x = linear(x)   #   │\n",
    "x = relu(x + a) # ──┘\n",
    "\n",
    "x"
   ]
  },
  {
   "cell_type": "markdown",
   "metadata": {},
   "source": [
    "### Inception block"
   ]
  },
  {
   "cell_type": "code",
   "execution_count": null,
   "metadata": {},
   "outputs": [],
   "source": []
  }
 ],
 "metadata": {
  "kernelspec": {
   "display_name": "base",
   "language": "python",
   "name": "python3"
  },
  "language_info": {
   "codemirror_mode": {
    "name": "ipython",
    "version": 3
   },
   "file_extension": ".py",
   "mimetype": "text/x-python",
   "name": "python",
   "nbconvert_exporter": "python",
   "pygments_lexer": "ipython3",
   "version": "3.9.12"
  },
  "orig_nbformat": 4
 },
 "nbformat": 4,
 "nbformat_minor": 2
}
