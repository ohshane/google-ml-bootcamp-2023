{
 "cells": [
  {
   "cell_type": "markdown",
   "metadata": {},
   "source": [
    "### Object Localization\n",
    "\n",
    "<img src=\"https://blog.kakaocdn.net/dn/clMoGB/btr2PUkjYxh/InSpJZdWj5Mi7Hog4oEl1K/img.png\" width=\"800px\" />"
   ]
  },
  {
   "cell_type": "markdown",
   "metadata": {},
   "source": [
    "$$\n",
    "\\mathbf{y} =\n",
    "\\begin{bmatrix}\n",
    "    p_c \\\\\n",
    "    b_x \\\\\n",
    "    b_y \\\\\n",
    "    b_h \\\\\n",
    "    b_w \\\\\n",
    "    c_1 \\\\\n",
    "    c_2 \\\\\n",
    "    c_3 \\\\\n",
    "\\end{bmatrix} =\n",
    "\\begin{bmatrix}\n",
    "    \\text{object existance} \\\\\n",
    "    \\text{bounding box} \\\\\n",
    "    \\text{bounding box} \\\\\n",
    "    \\text{bounding box} \\\\\n",
    "    \\text{bounding box} \\\\\n",
    "    \\text{object class} \\\\\n",
    "    \\text{object class} \\\\\n",
    "    \\text{object class} \\\\\n",
    "\\end{bmatrix}\n",
    "$$\n",
    "\n",
    "$$\n",
    "\\mathcal{L}(\\hat{\\mathbf {y}}, \\mathbf{y}) =\n",
    "\\begin{cases}\n",
    "    (\\hat{\\mathbf{y}} - \\mathbf{y})^2, & \\text{if}\\ y_1=1\\ (\\text{object does exist}) \\\\\n",
    "    (\\hat{y}_1 - y_1)^2, & \\text{if}\\ y_1=0\\ (\\text{object does not exist})\n",
    "\\end{cases}\n",
    "$$\n",
    "\n",
    "cross-entropy loss for object class losses and logistic loss for object existance could be okay too."
   ]
  },
  {
   "cell_type": "markdown",
   "metadata": {},
   "source": [
    "### Landmark Detection\n",
    "\n",
    "<img src=\"https://miro.medium.com/v2/resize:fit:1400/format:webp/1*kmu_t1iNbOipwozjxCG6og.jpeg\" width=\"200px\" />"
   ]
  },
  {
   "cell_type": "markdown",
   "metadata": {},
   "source": [
    "$$\n",
    "\\mathbf{y} =\n",
    "\\begin{bmatrix}\n",
    "    p \\\\\n",
    "    l_{1,x} \\\\\n",
    "    l_{1,y} \\\\\n",
    "    \\vdots \\\\\n",
    "    l_{64,x} \\\\\n",
    "    l_{64,y} \\\\\n",
    "\\end{bmatrix} =\n",
    "\\begin{bmatrix}\n",
    "    \\text{object existance} \\\\\n",
    "    \\text{landmarks} \\\\\n",
    "    \\text{landmarks} \\\\\n",
    "    \\vdots \\\\\n",
    "    \\text{landmarks} \\\\\n",
    "    \\text{landmarks}\n",
    "\\end{bmatrix}\n",
    "$$\n",
    "\n",
    "$$\n",
    "\\mathcal{L}(\\hat{\\mathbf {y}}, \\mathbf{y}) =\n",
    "\\begin{cases}\n",
    "    (\\hat{\\mathbf{y}} - \\mathbf{y})^2, & \\text{if}\\ y_1=1\\ (\\text{object does exist}) \\\\\n",
    "    (\\hat{y}_1 - y_1)^2, & \\text{if}\\ y_1=0\\ (\\text{object does not exist})\n",
    "\\end{cases}\n",
    "$$\n",
    "\n",
    "cross-entropy loss for object class losses and logistic loss for object existance could be okay too."
   ]
  },
  {
   "cell_type": "markdown",
   "metadata": {},
   "source": [
    "### Object Detection\n",
    "using sliding windows! (sliding windows detection can be very costly when used with ConvNets)\n",
    "\n",
    "Instead of flattening the last latent feature, we can use Conv2d which can be parallelized.\\\n",
    "There are some downsides of sliding windows algo. One is that the bounding box is inaccurate due to multiple size-reducing-layers such as Conv, Pool etc. The other is that the bounding box cannot be rectangular shaped."
   ]
  },
  {
   "cell_type": "code",
   "execution_count": 180,
   "metadata": {},
   "outputs": [
    {
     "name": "stdout",
     "output_type": "stream",
     "text": [
      "torch.Size([1, 3, 28, 28])\n",
      "torch.Size([1, 1, 1, 1])\n",
      "tensor([[[[0.0638]]]], grad_fn=<ConvolutionBackward0>)\n",
      "\n",
      "torch.Size([1, 3, 224, 224])\n",
      "torch.Size([1, 1, 50, 50])\n",
      "tensor([[[[0.0703, 0.0684, 0.0585,  ..., 0.0682, 0.0658, 0.0502],\n",
      "          [0.0805, 0.0736, 0.0565,  ..., 0.0610, 0.0458, 0.0641],\n",
      "          [0.0764, 0.0652, 0.0598,  ..., 0.0582, 0.0643, 0.0663],\n",
      "          ...,\n",
      "          [0.0736, 0.0652, 0.0703,  ..., 0.0633, 0.0642, 0.0555],\n",
      "          [0.0717, 0.0602, 0.0570,  ..., 0.0587, 0.0513, 0.0572],\n",
      "          [0.0708, 0.0719, 0.0611,  ..., 0.0600, 0.0570, 0.0549]]]],\n",
      "       grad_fn=<ConvolutionBackward0>)\n"
     ]
    },
    {
     "data": {
      "image/png": "[encoded data removed]",
      "text/plain": [
       "<Figure size 432x288 with 2 Axes>"
      ]
     },
     "metadata": {
      "needs_background": "light"
     },
     "output_type": "display_data"
    }
   ],
   "source": [
    "import torch\n",
    "import torch.nn as nn\n",
    "import matplotlib.pyplot as plt\n",
    "\n",
    "class Detector(nn.Module):\n",
    "    def __init__(self):\n",
    "        super().__init__()\n",
    "        self.conv1 = nn.Conv2d(3, 64, kernel_size=5, padding=2)\n",
    "        self.conv2 = nn.Conv2d(64, 128, kernel_size=5, padding=2)\n",
    "        self.conv3 = nn.Conv2d(128, 256, kernel_size=5, padding=2)\n",
    "        self.maxpool = nn.MaxPool2d(2, 2)\n",
    "        self.relu = nn.ReLU()\n",
    "\n",
    "        self.convpool = nn.Conv2d(256, 256, kernel_size=7)\n",
    "        self.fc1 = nn.Conv2d(256, 64, kernel_size=1)\n",
    "        self.fc2 = nn.Conv2d(64, 1, kernel_size=1)\n",
    "    \n",
    "    def forward(self, x):\n",
    "        x = self.conv1(x)\n",
    "        x = self.relu(x)\n",
    "        x = self.maxpool(x)\n",
    "\n",
    "        x = self.conv2(x)\n",
    "        x = self.relu(x)\n",
    "        x = self.maxpool(x)\n",
    "\n",
    "        x = self.conv3(x)\n",
    "        x = self.relu(x)\n",
    "        x = self.convpool(x)\n",
    "\n",
    "        x = self.fc1(x)\n",
    "        x = self.relu(x)\n",
    "        x = self.fc2(x)\n",
    "        return x\n",
    "\n",
    "model = Detector()\n",
    "\n",
    "x = torch.randn(1,3,28,28) # sliding window size (3x28x28)\n",
    "y_hat = model(x)\n",
    "print(x.shape)\n",
    "print(y_hat.shape)\n",
    "print(y_hat)\n",
    "print()\n",
    "\n",
    "x = torch.randn(1,3,224,224) # (3x224x224) image with sliding window size (3x28x28)\n",
    "y_hat = model(x)\n",
    "print(x.shape)\n",
    "print(y_hat.shape)\n",
    "print(y_hat)\n",
    "\n",
    "plt.imshow(y_hat.squeeze().sigmoid().detach().numpy())\n",
    "plt.colorbar()\n",
    "plt.show()"
   ]
  },
  {
   "cell_type": "markdown",
   "metadata": {},
   "source": [
    "### YOLO algorithm\n",
    "\n",
    "Image localization in a 19x19 grid"
   ]
  },
  {
   "cell_type": "code",
   "execution_count": 182,
   "metadata": {},
   "outputs": [
    {
     "data": {
      "text/plain": [
       "tensor([[[[0., 0., 0.,  ..., 0., 0., 0.],\n",
       "          [0., 0., 0.,  ..., 0., 0., 0.],\n",
       "          [0., 0., 0.,  ..., 0., 0., 0.],\n",
       "          ...,\n",
       "          [0., 0., 0.,  ..., 0., 0., 0.],\n",
       "          [0., 0., 0.,  ..., 0., 0., 0.],\n",
       "          [0., 0., 0.,  ..., 0., 0., 0.]],\n",
       "\n",
       "         [[0., 0., 0.,  ..., 0., 0., 0.],\n",
       "          [0., 0., 0.,  ..., 0., 0., 0.],\n",
       "          [0., 0., 0.,  ..., 0., 0., 0.],\n",
       "          ...,\n",
       "          [0., 0., 0.,  ..., 0., 0., 0.],\n",
       "          [0., 0., 0.,  ..., 0., 0., 0.],\n",
       "          [0., 0., 0.,  ..., 0., 0., 0.]],\n",
       "\n",
       "         [[0., 0., 0.,  ..., 0., 0., 0.],\n",
       "          [0., 0., 0.,  ..., 0., 0., 0.],\n",
       "          [0., 0., 0.,  ..., 0., 0., 0.],\n",
       "          ...,\n",
       "          [0., 0., 0.,  ..., 0., 0., 0.],\n",
       "          [0., 0., 0.,  ..., 0., 0., 0.],\n",
       "          [0., 0., 0.,  ..., 0., 0., 0.]]]])"
      ]
     },
     "execution_count": 182,
     "metadata": {},
     "output_type": "execute_result"
    }
   ],
   "source": [
    "import torch\n",
    "import torch.nn as nn\n",
    "import torchvision.transforms as T\n",
    "import torchvision.transforms.functional as TF\n",
    "import matplotlib.pyplot as plt\n",
    "\n",
    "x = torch.zeros(1,3,608,608)"
   ]
  }
 ],
 "metadata": {
  "kernelspec": {
   "display_name": "base",
   "language": "python",
   "name": "python3"
  },
  "language_info": {
   "codemirror_mode": {
    "name": "ipython",
    "version": 3
   },
   "file_extension": ".py",
   "mimetype": "text/x-python",
   "name": "python",
   "nbconvert_exporter": "python",
   "pygments_lexer": "ipython3",
   "version": "3.9.12"
  },
  "orig_nbformat": 4
 },
 "nbformat": 4,
 "nbformat_minor": 2
}
