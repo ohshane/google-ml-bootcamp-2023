{
 "cells": [
  {
   "cell_type": "markdown",
   "metadata": {},
   "source": [
    "### Residual block"
   ]
  },
  {
   "cell_type": "code",
   "execution_count": 16,
   "metadata": {},
   "outputs": [
    {
     "data": {
      "text/plain": [
       "array([[0.3579266 ],\n",
       "       [0.94916421],\n",
       "       [0.        ],\n",
       "       [0.99054694],\n",
       "       [0.        ]])"
      ]
     },
     "execution_count": 16,
     "metadata": {},
     "output_type": "execute_result"
    }
   ],
   "source": [
    "import numpy as np\n",
    "import matplotlib.pyplot as plt\n",
    "\n",
    "x = np.random.randn(5,1)\n",
    "w = np.random.randn(5,5) * 0.01\n",
    "b = np.random.randn(5,1)\n",
    "\n",
    "def linear(x):\n",
    "    return w @ x + b\n",
    "\n",
    "def relu(x):\n",
    "    x[np.where(x < 0)] = 0\n",
    "    return x\n",
    "\n",
    "x = linear(x)\n",
    "x = relu(x)\n",
    "\n",
    "a = x           # ──┐\n",
    "                #   │\n",
    "x = linear(x)   #   │\n",
    "x = relu(x)     #   a\n",
    "                #   │\n",
    "x = linear(x)   #   │\n",
    "x = relu(x + a) # ──┘\n",
    "\n",
    "a = x           # ──┐\n",
    "                #   │\n",
    "x = linear(x)   #   │\n",
    "x = relu(x)     #   a\n",
    "                #   │\n",
    "x = linear(x)   #   │\n",
    "x = relu(x + a) # ──┘\n",
    "\n",
    "a = x           # ──┐\n",
    "                #   │\n",
    "x = linear(x)   #   │\n",
    "x = relu(x)     #   a\n",
    "                #   │\n",
    "x = linear(x)   #   │\n",
    "x = relu(x + a) # ──┘\n",
    "\n",
    "x"
   ]
  },
  {
   "cell_type": "markdown",
   "metadata": {},
   "source": [
    "### Inception block\n",
    "\n",
    "<img src=\"https://production-media.paperswithcode.com/methods/Screen_Shot_2020-06-22_at_3.22.39_PM.png\" width=\"1000px\" />"
   ]
  },
  {
   "cell_type": "code",
   "execution_count": 12,
   "metadata": {},
   "outputs": [
    {
     "data": {
      "text/plain": [
       "torch.Size([1, 192, 28, 28])"
      ]
     },
     "execution_count": 12,
     "metadata": {},
     "output_type": "execute_result"
    }
   ],
   "source": [
    "import torch\n",
    "import torch.nn as nn\n",
    "\n",
    "x = torch.randn(1, 192, 28, 28) # (m,c,h,w)\n",
    "x.shape"
   ]
  },
  {
   "cell_type": "code",
   "execution_count": 13,
   "metadata": {},
   "outputs": [
    {
     "data": {
      "text/plain": [
       "torch.Size([1, 256, 28, 28])"
      ]
     },
     "execution_count": 13,
     "metadata": {},
     "output_type": "execute_result"
    }
   ],
   "source": [
    "# (b) Inception module with dimension reductions\n",
    "\n",
    "def conv_1(x, in_dim, out_dim):\n",
    "    model = nn.Sequential(\n",
    "        nn.Conv2d(in_dim, out_dim, 1, 1),\n",
    "        nn.ReLU(),\n",
    "    )\n",
    "    return model(x)\n",
    "\n",
    "def conv_1_3(x, in_dim, mid_dim, out_dim):\n",
    "    model = nn.Sequential(\n",
    "        nn.Conv2d(in_dim, mid_dim, 1, 1),\n",
    "        nn.ReLU(),\n",
    "        nn.Conv2d(mid_dim, out_dim, 3, 1, 1),\n",
    "        nn.ReLU(),\n",
    "    )\n",
    "    return model(x)\n",
    "\n",
    "def conv_1_5(x, in_dim, mid_dim, out_dim):\n",
    "    model = nn.Sequential(\n",
    "        nn.Conv2d(in_dim, mid_dim, 1, 1),\n",
    "        nn.ReLU(),\n",
    "        nn.Conv2d(mid_dim, out_dim, 5, 1, 2),\n",
    "        nn.ReLU(),\n",
    "    )\n",
    "    return model(x)\n",
    "\n",
    "def max_3_1(x, in_dim, out_dim):\n",
    "    model = nn.Sequential(\n",
    "        nn.MaxPool2d(3, 1, 1),\n",
    "        nn.Conv2d(in_dim, out_dim, 1, 1),\n",
    "        nn.ReLU(),\n",
    "    )\n",
    "    return model(x)\n",
    "\n",
    "out_1 = conv_1(x, 192, 96)\n",
    "out_2 = conv_1_3(x, 192, 64, 96)\n",
    "out_3 = conv_1_5(x, 192, 16, 32)\n",
    "out_4 = max_3_1(x, 192, 32)\n",
    "x = torch.cat([out_1, out_2, out_3, out_4], 1)\n",
    "x.shape"
   ]
  },
  {
   "cell_type": "markdown",
   "metadata": {},
   "source": [
    "### MobileNet\n",
    "Normal convolutions vs. depthwise-separable convolutions\n",
    "\n",
    "<img src=\"https://production-media.paperswithcode.com/methods/Screen_Shot_2020-05-31_at_10.30.20_PM.png\" width=\"600px\" />"
   ]
  },
  {
   "cell_type": "code",
   "execution_count": 27,
   "metadata": {},
   "outputs": [
    {
     "name": "stdout",
     "output_type": "stream",
     "text": [
      "torch.Size([1, 1, 28, 28])\n",
      "torch.Size([1, 1, 28, 28])\n"
     ]
    }
   ],
   "source": [
    "import torch\n",
    "import torch.nn as nn\n",
    "\n",
    "x = torch.randn(1, 3, 28, 28)\n",
    "conv = nn.Conv2d(in_channels=3,\n",
    "                 out_channels=1,\n",
    "                 kernel_size=3,\n",
    "                 padding=1,\n",
    "                 groups=1)\n",
    "x = conv(x)\n",
    "print(x.shape)\n",
    "\n",
    "x = torch.randn(1, 3, 28, 28)\n",
    "conv_depthwise = nn.Conv2d(in_channels=3,\n",
    "                           out_channels=3,\n",
    "                           kernel_size=3,\n",
    "                           padding=1,\n",
    "                           groups=3)\n",
    "conv_pointwise = nn.Conv2d(in_channels=3,\n",
    "                           out_channels=1,\n",
    "                           kernel_size=1)\n",
    "x = conv_depthwise(x)\n",
    "x = conv_pointwise(x)\n",
    "print(x.shape)"
   ]
  },
  {
   "cell_type": "markdown",
   "metadata": {},
   "source": [
    "MobileNet v2 = MobileNet v1 + ResNet\n",
    "\n",
    "-> [Expansion -> Depthwise -> Pointwise] -> [Expansion -> Depthwise -> Pointwise] ->"
   ]
  },
  {
   "cell_type": "code",
   "execution_count": 34,
   "metadata": {},
   "outputs": [
    {
     "data": {
      "text/plain": [
       "torch.Size([1, 3, 28, 28])"
      ]
     },
     "execution_count": 34,
     "metadata": {},
     "output_type": "execute_result"
    }
   ],
   "source": [
    "x = torch.randn(1,3,28,28)\n",
    "\n",
    "conv_expansion = nn.Conv2d(\n",
    "    in_channels=3,\n",
    "    out_channels=18,\n",
    "    kernel_size=1,\n",
    "    groups=1)\n",
    "\n",
    "conv_depthwise = nn.Conv2d(\n",
    "    in_channels=18,\n",
    "    out_channels=18,\n",
    "    kernel_size=3,\n",
    "    padding=1,\n",
    "    groups=18)\n",
    "\n",
    "conv_pointwise = nn.Conv2d(\n",
    "    in_channels=18,\n",
    "    out_channels=3,\n",
    "    kernel_size=1,\n",
    "    groups=1)\n",
    "\n",
    "relu = nn.ReLU()\n",
    "\n",
    "def bottleneck(x):\n",
    "    _x = x\n",
    "    x = conv_expansion(x)\n",
    "    x = relu(x)\n",
    "    x = conv_depthwise(x)\n",
    "    x = relu(x)\n",
    "    x = conv_pointwise(x)\n",
    "    x = relu(x + _x)\n",
    "    return x\n",
    "\n",
    "def mobilenetv2(x):\n",
    "    for _ in range(17):\n",
    "        x = bottleneck(x)\n",
    "    return x\n",
    "\n",
    "mobilenetv2(x).shape"
   ]
  },
  {
   "cell_type": "markdown",
   "metadata": {},
   "source": [
    "### IOU (Intersection Over Union)\n",
    "Basically a f1 score\n",
    "\n",
    "<img src=\"https://machinelearningspace.com/wp-content/uploads/2023/01/IOU2.jpg\" width=\"600px\" />"
   ]
  },
  {
   "cell_type": "code",
   "execution_count": null,
   "metadata": {},
   "outputs": [],
   "source": []
  }
 ],
 "metadata": {
  "kernelspec": {
   "display_name": "base",
   "language": "python",
   "name": "python3"
  },
  "language_info": {
   "codemirror_mode": {
    "name": "ipython",
    "version": 3
   },
   "file_extension": ".py",
   "mimetype": "text/x-python",
   "name": "python",
   "nbconvert_exporter": "python",
   "pygments_lexer": "ipython3",
   "version": "3.9.12"
  },
  "orig_nbformat": 4
 },
 "nbformat": 4,
 "nbformat_minor": 2
}
