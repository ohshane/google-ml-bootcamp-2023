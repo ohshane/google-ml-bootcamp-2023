{
 "cells": [
  {
   "cell_type": "markdown",
   "metadata": {},
   "source": [
    "### Face Recognition\n",
    "Face recognition task is based on one-shot learning.\n",
    "\n",
    "This can be done by calculating the distance between image of a id card and the upcomming person's face using siamese network."
   ]
  },
  {
   "cell_type": "markdown",
   "metadata": {},
   "source": [
    "#### Triplet Loss \n",
    "using Anchor, Positive, Negative images\n",
    "\n",
    "Anchor and Positive images are the same person and the Negative is not. For the actual training, it is better to select a similar person rather than selecting randomly.\n",
    "\n",
    "$$\n",
    "\\begin{align*}\n",
    "\\mathbf{z}_A &:= \\text{anchor image latent}\\\\\n",
    "\\mathbf{z}_P &:= \\text{positive image latent}\\\\\n",
    "\\mathbf{z}_N &:= \\text{negative image latent}\\\\\n",
    "\\end{align*}\n",
    "$$\n",
    "\n",
    "$$\n",
    "\\delta := \\text{margin}\\\\\n",
    "\n",
    "\\begin{align*}\n",
    "||\\mathbf z_A - \\mathbf z_P||^2 \\leq ||\\mathbf z_A - \\mathbf z_N||^2 \\\\\n",
    "||\\mathbf z_A - \\mathbf z_P||^2 + \\delta \\leq ||\\mathbf z_A - \\mathbf z_N||^2 \\\\\n",
    "||\\mathbf z_A - \\mathbf z_P||^2 - ||\\mathbf z_A - \\mathbf z_N||^2 + \\delta \\leq 0 \\\\\n",
    "\\end{align*}\n",
    "$$"
   ]
  },
  {
   "cell_type": "markdown",
   "metadata": {},
   "source": [
    "Triplet loss \\\n",
    "$\n",
    "\\mathcal{L}(\\mathbf z_A, \\mathbf z_P, \\mathbf z_N) =\n",
    "\\max(||\\mathbf z_A - \\mathbf z_P||^2 - ||\\mathbf z_A - \\mathbf z_N||^2 + \\delta, 0)\n",
    "$\n",
    "\n",
    "<img src=\"src/triplet.png\" height=\"200px\" />\n",
    "\n",
    "BCE loss \\\n",
    "$\n",
    "\\hat{y} =\n",
    "\\sigma(\\mathbf w \\cdot |\\mathbf z_1 - \\mathbf z_2| + b)\n",
    "$\\\n",
    "$\n",
    "\\hat{y} =\n",
    "\\sigma(\\mathbf w \\cdot \\frac{(\\mathbf z_1 - \\mathbf z_2)^2}{\\mathbf z_1 + \\mathbf z_2} + b)\n",
    "$ chi-squared distance\n",
    "\n",
    "<img src=\"src/bce.png\" height=\"200px\" />\n"
   ]
  },
  {
   "cell_type": "markdown",
   "metadata": {},
   "source": [
    "### Neural Style Transfer\n",
    "\n",
    "As the layer propagates, the larger patches of an image is seen, meaning that more complex pattern is detected.\n",
    "\n",
    "<img src=\"src/layers.png\" width=\"1000px\" />"
   ]
  },
  {
   "cell_type": "markdown",
   "metadata": {},
   "source": [
    "<img src=\"src/styletransfer.png\" height=\"300px\" />\n",
    "\n",
    "(C)ontent + (S)tyle = (G)enerated \n",
    "\n",
    "The cost function to evaluate how well $G$ is generated is:\\\n",
    "how similar the content is ($J_{\\text{content}}$) and how similar the style is ($J_{\\text{style}}$)\n",
    "\n",
    "$$\n",
    "J(G) = \\alpha \\cdot J_{\\text{content}}(C, G) + \\beta \\cdot J_{\\text{style}}(S, G) \n",
    "$$\n",
    "\n",
    "Here are the steps:\n",
    "\n",
    "1. Initiate $G$ randomly\\\n",
    "`G = torch.randn(3,224,224)`\n",
    "1. Use gradient descent to minimize $J(G)$\\\n",
    "$G := G - \\dfrac{\\partial}{\\partial G}J(G)$"
   ]
  },
  {
   "cell_type": "markdown",
   "metadata": {},
   "source": [
    "We use a pretrained ConvNets sth like VGG.\n",
    "\n",
    "#### Cost function $J_{\\text{content}}$\n",
    "\n",
    "Let $a^{[l](C)}$ and $a^{[l](G)}$ be the activation of layer $l$ in a network.\\\n",
    "If $a^{[l](C)} \\sim a^{[l](G)}$, then both $C$, $G$ have similar content.\n",
    "\n",
    "$J_{\\text{content}}(C, G) = \\dfrac{1}{2} ||a^{[l](C)} - a^{[l](G)}||^2$\n",
    "\n",
    "#### Cost function $J_{\\text{style}}$\n",
    "\n",
    "What does a style mean in ConvNets?\n",
    "\n",
    "Each channel in a layer detects a pattern (vertical line pattern, orange like color etc.).\\\n",
    "If pattern A and B occur together more often this can be called as a *style*, which can be told with a *pattern correlation*.\\\n",
    "Occuring together or not together are both meaningful style.\n",
    "\n",
    "$\n",
    "J_{\\text{style}}^{[l]}(S,G) =\n",
    "\\dfrac{1}{(2 n_H^{[l]} n_W^{[l]} n_C^{[l]})^2} \\sum_{\\kappa, \\kappa'}(\\mathcal G_{\\kappa\\kappa'}^{[l](S)} - \\mathcal G_{\\kappa\\kappa'}^{[l](G)})^2\n",
    "$\n",
    "\n",
    "<img src=\"src/stylecorrelation.png\" height=\"300px\" />\n"
   ]
  },
  {
   "cell_type": "code",
   "execution_count": 34,
   "metadata": {},
   "outputs": [
    {
     "name": "stdout",
     "output_type": "stream",
     "text": [
      "tensor([[[-1.7198,  1.1267],\n",
      "         [ 0.7979, -1.7814]],\n",
      "\n",
      "        [[-0.7583,  0.3285],\n",
      "         [-0.9120, -0.4087]],\n",
      "\n",
      "        [[-0.5729, -0.1343],\n",
      "         [-1.5903, -0.3435]],\n",
      "\n",
      "        [[ 0.2058, -0.1951],\n",
      "         [-1.1196,  1.6666]],\n",
      "\n",
      "        [[ 1.8376, -0.6004],\n",
      "         [ 0.6085, -0.3198]]])\n"
     ]
    },
    {
     "data": {
      "image/png": "[encoded data removed]",
      "text/plain": [
       "<Figure size 432x288 with 1 Axes>"
      ]
     },
     "metadata": {
      "needs_background": "light"
     },
     "output_type": "display_data"
    }
   ],
   "source": [
    "# Gram matrix = Style similarity matrix\n",
    "import torch\n",
    "import torch.nn as nn\n",
    "import matplotlib.pyplot as plt\n",
    "\n",
    "a = torch.randn(5,2,2) # image after activation; channel of 5, kernel size of (2,2)\n",
    "print(a)\n",
    "\n",
    "G = a.view(5, -1) @ a.view(5, -1).T # Gram matrix\n",
    "\n",
    "fig, ax = plt.subplots()\n",
    "ax.set_title('Gram matrix (style similarity matrix)')\n",
    "ax.tick_params(axis='both', which='major', labelsize=20)\n",
    "ax.imshow(G)\n",
    "ax.set_xticks(range(5), [rf\"$\\kappa_{i}$\" for i in range(1, 6)])\n",
    "ax.set_yticks(range(5), [rf\"$\\kappa_{i}$\" for i in range(1, 6)])\n",
    "plt.show()"
   ]
  },
  {
   "cell_type": "markdown",
   "metadata": {},
   "source": [
    "$\\mathcal G$ for Gram matrix\n",
    "\n",
    "$$\n",
    "\\mathcal{G}_{\\kappa \\kappa'}^{[l](G)} = \\sum_{i=1}^{n_H} \\sum_{i=1}^{n_W} a_{i,j,\\kappa}^{[l](G)} a_{i,j,\\kappa'}^{[l](G)}\n",
    "$$\n",
    "$$\n",
    "J_{\\text{style}}^{[l]}(S,G) =\n",
    "\\dfrac{1}{(2 n_H^{[l]} n_W^{[l]} n_C^{[l]})^2} \\sum_{\\kappa, \\kappa'}(\\mathcal G_{\\kappa\\kappa'}^{[l](S)} - \\mathcal G_{\\kappa\\kappa'}^{[l](G)})^2\n",
    "$$\n",
    "$$\n",
    "J_{\\text{style}}(S,G) =\n",
    "\\sum_{l} \\lambda^{[l]} J_{\\text{style}}^{[l]}(S, G)\n",
    "$$"
   ]
  },
  {
   "cell_type": "code",
   "execution_count": 2,
   "metadata": {},
   "outputs": [
    {
     "name": "stdout",
     "output_type": "stream",
     "text": [
      "tensor(0.0073)\n"
     ]
    }
   ],
   "source": [
    "a_style = torch.randn(5,2,2) # image after activation; channel of 5, kernel size of (2,2)\n",
    "a_generated = torch.randn(5,2,2) # image after activation; channel of 5, kernel size of (2,2)\n",
    "\n",
    "G_style = a_style.view(5, -1) @ a_style.view(5, -1).T # Gram matrix of a style image latent after activation function\n",
    "G_generated = a_generated.view(5, -1) @ a_generated.view(5, -1).T # Gram matrix of a generated image latent after activation function\n",
    "\n",
    "J = (1/(2*2*2*5))**2*((G_style - G_generated)**2).sum().sqrt()\n",
    "print(J)"
   ]
  }
 ],
 "metadata": {
  "kernelspec": {
   "display_name": "base",
   "language": "python",
   "name": "python3"
  },
  "language_info": {
   "codemirror_mode": {
    "name": "ipython",
    "version": 3
   },
   "file_extension": ".py",
   "mimetype": "text/x-python",
   "name": "python",
   "nbconvert_exporter": "python",
   "pygments_lexer": "ipython3",
   "version": "3.9.12"
  }
 },
 "nbformat": 4,
 "nbformat_minor": 2
}
