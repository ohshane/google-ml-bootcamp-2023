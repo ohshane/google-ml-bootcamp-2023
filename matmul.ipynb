{
 "cells": [
  {
   "cell_type": "code",
   "execution_count": 73,
   "metadata": {},
   "outputs": [],
   "source": [
    "import numpy as np"
   ]
  },
  {
   "cell_type": "code",
   "execution_count": 74,
   "metadata": {},
   "outputs": [
    {
     "name": "stdout",
     "output_type": "stream",
     "text": [
      "[[0 2 2]\n",
      " [2 0 0]]\n",
      "----------\n",
      "[0 0 2]\n",
      "----------\n",
      "[4 0]\n"
     ]
    }
   ],
   "source": [
    "A = np.random.randint(0,3,size=(2,3))\n",
    "x = np.random.randint(0,3,size=(3,))\n",
    "\n",
    "print(A, x, A @ x, sep='\\n----------\\n')"
   ]
  },
  {
   "cell_type": "code",
   "execution_count": 75,
   "metadata": {},
   "outputs": [
    {
     "name": "stdout",
     "output_type": "stream",
     "text": [
      "[[1 1 2]\n",
      " [1 1 1]]\n",
      "----------\n",
      "[[2]\n",
      " [0]\n",
      " [0]]\n",
      "----------\n",
      "[[2]\n",
      " [2]]\n"
     ]
    }
   ],
   "source": [
    "A = np.random.randint(0,3,size=(2,3))\n",
    "x = np.random.randint(0,3,size=(3,1))\n",
    "\n",
    "print(A, x, A @ x, sep='\\n----------\\n')"
   ]
  },
  {
   "cell_type": "code",
   "execution_count": 77,
   "metadata": {},
   "outputs": [
    {
     "name": "stdout",
     "output_type": "stream",
     "text": [
      "[[[2 2]\n",
      "  [2 1]]\n",
      "\n",
      " [[1 2]\n",
      "  [0 2]]\n",
      "\n",
      " [[2 1]\n",
      "  [0 1]]]\n",
      "----------\n",
      "[[2 1 0]\n",
      " [2 1 0]]\n",
      "----------\n",
      "[[[8 4 0]\n",
      "  [6 3 0]]\n",
      "\n",
      " [[6 3 0]\n",
      "  [4 2 0]]\n",
      "\n",
      " [[6 3 0]\n",
      "  [2 1 0]]]\n"
     ]
    }
   ],
   "source": [
    "A = np.random.randint(0,3,size=(3,2,2))\n",
    "B = np.random.randint(0,3,size=  (2,3))\n",
    "\n",
    "print(A, B, A @ B, sep='\\n----------\\n')"
   ]
  },
  {
   "cell_type": "code",
   "execution_count": 78,
   "metadata": {},
   "outputs": [
    {
     "name": "stdout",
     "output_type": "stream",
     "text": [
      "[[[1 0]\n",
      "  [0 0]]\n",
      "\n",
      " [[2 1]\n",
      "  [2 2]]\n",
      "\n",
      " [[2 1]\n",
      "  [0 2]]]\n",
      "----------\n",
      "[[[2 0 1]\n",
      "  [2 2 0]]]\n",
      "----------\n",
      "[[[2 0 1]\n",
      "  [0 0 0]]\n",
      "\n",
      " [[6 2 2]\n",
      "  [8 4 2]]\n",
      "\n",
      " [[6 2 2]\n",
      "  [4 4 0]]]\n"
     ]
    }
   ],
   "source": [
    "# same operation as above\n",
    "# (2,2) @ (2,3).broadcast_3_times\n",
    "A = np.random.randint(0,3,size=(3,2,2))\n",
    "B = np.random.randint(0,3,size=(1,2,3))\n",
    "\n",
    "print(A, B, A @ B, sep='\\n----------\\n')"
   ]
  },
  {
   "cell_type": "code",
   "execution_count": 79,
   "metadata": {},
   "outputs": [
    {
     "name": "stdout",
     "output_type": "stream",
     "text": [
      "[[[1 2]\n",
      "  [0 1]]\n",
      "\n",
      " [[2 0]\n",
      "  [1 1]]\n",
      "\n",
      " [[0 1]\n",
      "  [2 2]]]\n",
      "----------\n",
      "[[[0 0 2]\n",
      "  [0 0 2]]\n",
      "\n",
      " [[1 0 2]\n",
      "  [2 1 1]]\n",
      "\n",
      " [[2 2 1]\n",
      "  [1 1 0]]]\n",
      "----------\n",
      "[[[0 0 6]\n",
      "  [0 0 2]]\n",
      "\n",
      " [[2 0 4]\n",
      "  [3 1 3]]\n",
      "\n",
      " [[1 1 0]\n",
      "  [6 6 2]]]\n"
     ]
    }
   ],
   "source": [
    "# 3 item-wise [(2,2) @ (2,3)]\n",
    "A = np.random.randint(0,3,size=(3,2,2))\n",
    "B = np.random.randint(0,3,size=(3,2,3))\n",
    "\n",
    "print(A, B, A @ B, sep='\\n----------\\n')"
   ]
  },
  {
   "cell_type": "code",
   "execution_count": 85,
   "metadata": {},
   "outputs": [
    {
     "name": "stdout",
     "output_type": "stream",
     "text": [
      "[[[1 0]\n",
      "  [2 1]]\n",
      "\n",
      " [[2 0]\n",
      "  [0 1]]\n",
      "\n",
      " [[0 2]\n",
      "  [0 2]]]\n",
      "----------\n",
      "[[[[2 2 0]\n",
      "   [0 0 0]]]\n",
      "\n",
      "\n",
      " [[[0 2 1]\n",
      "   [0 0 0]]]]\n",
      "----------\n",
      "[[[[2 2 0]\n",
      "   [4 4 0]]\n",
      "\n",
      "  [[4 4 0]\n",
      "   [0 0 0]]\n",
      "\n",
      "  [[0 0 0]\n",
      "   [0 0 0]]]\n",
      "\n",
      "\n",
      " [[[0 2 1]\n",
      "   [0 4 2]]\n",
      "\n",
      "  [[0 4 2]\n",
      "   [0 0 0]]\n",
      "\n",
      "  [[0 0 0]\n",
      "   [0 0 0]]]]\n"
     ]
    }
   ],
   "source": [
    "# 2 * [(3,2,2) @ (2,3).broadcast_3_times]\n",
    "A = np.random.randint(0,3,size=  (3,2,2))\n",
    "B = np.random.randint(0,3,size=(2,1,2,3))\n",
    "\n",
    "print(A, B, A @ B, sep='\\n----------\\n')"
   ]
  },
  {
   "cell_type": "code",
   "execution_count": 87,
   "metadata": {},
   "outputs": [
    {
     "name": "stdout",
     "output_type": "stream",
     "text": [
      "[[[1 2]\n",
      "  [0 2]]\n",
      "\n",
      " [[0 1]\n",
      "  [2 0]]\n",
      "\n",
      " [[1 2]\n",
      "  [0 0]]]\n",
      "----------\n",
      "[[[[0 1 2]\n",
      "   [0 1 1]]\n",
      "\n",
      "  [[1 1 2]\n",
      "   [2 0 1]]\n",
      "\n",
      "  [[2 2 2]\n",
      "   [2 1 2]]]\n",
      "\n",
      "\n",
      " [[[1 0 2]\n",
      "   [1 2 0]]\n",
      "\n",
      "  [[1 2 1]\n",
      "   [1 0 0]]\n",
      "\n",
      "  [[2 0 0]\n",
      "   [2 0 0]]]]\n",
      "----------\n",
      "[[[[0 3 4]\n",
      "   [0 2 2]]\n",
      "\n",
      "  [[2 0 1]\n",
      "   [2 2 4]]\n",
      "\n",
      "  [[6 4 6]\n",
      "   [0 0 0]]]\n",
      "\n",
      "\n",
      " [[[3 4 2]\n",
      "   [2 4 0]]\n",
      "\n",
      "  [[1 0 0]\n",
      "   [2 4 2]]\n",
      "\n",
      "  [[6 0 0]\n",
      "   [0 0 0]]]]\n"
     ]
    }
   ],
   "source": [
    "# 2 * {3 item-wise [(2,2) @ (2,3)]}\n",
    "A = np.random.randint(0,3,size=  (3,2,2))\n",
    "B = np.random.randint(0,3,size=(2,3,2,3))\n",
    "\n",
    "print(A, B, A @ B, sep='\\n----------\\n')"
   ]
  }
 ],
 "metadata": {
  "kernelspec": {
   "display_name": "base",
   "language": "python",
   "name": "python3"
  },
  "language_info": {
   "codemirror_mode": {
    "name": "ipython",
    "version": 3
   },
   "file_extension": ".py",
   "mimetype": "text/x-python",
   "name": "python",
   "nbconvert_exporter": "python",
   "pygments_lexer": "ipython3",
   "version": "3.9.12"
  }
 },
 "nbformat": 4,
 "nbformat_minor": 2
}
